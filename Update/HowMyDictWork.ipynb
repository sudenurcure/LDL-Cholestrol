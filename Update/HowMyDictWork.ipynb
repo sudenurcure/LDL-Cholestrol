{
 "cells": [
  {
   "cell_type": "code",
   "execution_count": 2,
   "metadata": {},
   "outputs": [],
   "source": [
    "import Update.ReferenceDictionary as dd"
   ]
  },
  {
   "cell_type": "markdown",
   "metadata": {},
   "source": [
    "None works?"
   ]
  },
  {
   "cell_type": "code",
   "execution_count": 3,
   "metadata": {},
   "outputs": [
    {
     "name": "stdout",
     "output_type": "stream",
     "text": [
      "yes\n"
     ]
    }
   ],
   "source": [
    "if dd.IDL.IDCH[\"Optimal\"] is None:\n",
    "    print(\"yes\")\n",
    "else:\n",
    "    print(\"no\")"
   ]
  },
  {
   "cell_type": "markdown",
   "metadata": {},
   "source": [
    "Compare patient?"
   ]
  },
  {
   "cell_type": "code",
   "execution_count": 4,
   "metadata": {},
   "outputs": [
    {
     "data": {
      "text/plain": [
       "['>', 50]"
      ]
     },
     "execution_count": 4,
     "metadata": {},
     "output_type": "execute_result"
    }
   ],
   "source": [
    "dd.HDL.HDCH[\"Optimal\"]"
   ]
  },
  {
   "cell_type": "code",
   "execution_count": 5,
   "metadata": {},
   "outputs": [
    {
     "data": {
      "text/plain": [
       "['<', 50]"
      ]
     },
     "execution_count": 5,
     "metadata": {},
     "output_type": "execute_result"
    }
   ],
   "source": [
    "dd.HDL.HDCH[\"Risk\"]"
   ]
  },
  {
   "cell_type": "code",
   "execution_count": 6,
   "metadata": {},
   "outputs": [],
   "source": [
    "dct = {'LDCH [mg/dL]': 161.65,\n",
    " 'LDHD [-/-]': 2.39,\n",
    " 'LDPN [nmol/L]': 1623.31,\n",
    " 'LDTG [mg/dL]': 13.49,\n",
    " 'LDFC [mg/dL]': 44.09,\n",
    " 'LDPL [mg/dL]': 85.15,\n",
    " 'LDAB [mg/dL]': 89.28}"
   ]
  },
  {
   "cell_type": "code",
   "execution_count": 9,
   "metadata": {},
   "outputs": [
    {
     "name": "stdout",
     "output_type": "stream",
     "text": [
      "['<', 70]\n",
      "['<', 100]\n",
      "['>', 130]\n",
      "\n",
      "\n",
      "['<', 1000]\n",
      "['>', 1300]\n",
      "\n",
      "\n",
      "['<', 24]\n",
      "['>', 28]\n",
      "\n",
      "\n",
      "None\n",
      "None\n",
      "\n",
      "\n",
      "['<', 70]\n",
      "['>', 100]\n",
      "\n",
      "\n"
     ]
    }
   ],
   "source": [
    "for test , pval in dct.items():\n",
    "    usename = test.replace(\" [mg/dL]\", \"\").replace(\" [nmol/L]\", \"\").replace(\" [-/-]\", \"\")\n",
    "    try:\n",
    "        attribute =getattr(dd.LDL(),usename)\n",
    "    except:\n",
    "        pass\n",
    "    else:\n",
    "        try:\n",
    "            attribute[\"Optimal\"]\n",
    "        except:\n",
    "            try:\n",
    "                attribute[\"OptimalnCD\"]\n",
    "                attribute[\"OptimalCD\"]\n",
    "            except:\n",
    "                print(\"Problem\")\n",
    "                pass\n",
    "            else:\n",
    "                print(attribute[\"OptimalnCD\"])\n",
    "                print(attribute[\"OptimalCD\"])\n",
    "        else:\n",
    "            print(attribute[\"Optimal\"])\n",
    "\n",
    "            \n",
    "        print(attribute[\"Risk\"])\n",
    "        print(\"\\n\")\n",
    "\n"
   ]
  },
  {
   "cell_type": "markdown",
   "metadata": {},
   "source": [
    "Have Some References\n"
   ]
  },
  {
   "cell_type": "code",
   "execution_count": 1,
   "metadata": {},
   "outputs": [
    {
     "data": {
      "text/plain": [
       "False"
      ]
     },
     "execution_count": 1,
     "metadata": {},
     "output_type": "execute_result"
    }
   ],
   "source": [
    "x = \"> 150\"\n",
    "pval = 30\n",
    "eval(f\"{pval} {x}\")"
   ]
  },
  {
   "cell_type": "code",
   "execution_count": 7,
   "metadata": {},
   "outputs": [
    {
     "data": {
      "text/plain": [
       "'6.00'"
      ]
     },
     "execution_count": 7,
     "metadata": {},
     "output_type": "execute_result"
    }
   ],
   "source": [
    "ref = \"< 6.00\"\n",
    "ref[2:]"
   ]
  }
 ],
 "metadata": {
  "kernelspec": {
   "display_name": "Python 3",
   "language": "python",
   "name": "python3"
  },
  "language_info": {
   "codemirror_mode": {
    "name": "ipython",
    "version": 3
   },
   "file_extension": ".py",
   "mimetype": "text/x-python",
   "name": "python",
   "nbconvert_exporter": "python",
   "pygments_lexer": "ipython3",
   "version": "3.10.12"
  }
 },
 "nbformat": 4,
 "nbformat_minor": 2
}
