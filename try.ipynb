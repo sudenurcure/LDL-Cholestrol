{
 "cells": [
  {
   "cell_type": "code",
   "execution_count": 1,
   "metadata": {},
   "outputs": [],
   "source": [
    "import pandas as pd\n",
    "import test_groups as TG\n",
    "\n",
    "Tests = []"
   ]
  },
  {
   "cell_type": "code",
   "execution_count": 2,
   "metadata": {},
   "outputs": [],
   "source": [
    "class PrepTests:\n",
    "    \"\"\" Save testname and make a dataframe of test results.\n",
    "    \"\"\"\n",
    "    def __init__(self,name):\n",
    "        self.name = name\n",
    "        self.dataframe = self.make_df()\n",
    "\n",
    "    def make_df(self,add = False, dta =[]):\n",
    "        if add:\n",
    "            self.dataframe = pd.concat([self.dataframe, dta], axis= 1, ignore_index= True)\n",
    "            return\n",
    "        else:\n",
    "            df = pd.DataFrame()\n",
    "            return df"
   ]
  },
  {
   "cell_type": "code",
   "execution_count": 5,
   "metadata": {},
   "outputs": [],
   "source": [
    "def DataPrep(data):\n",
    "    for index, element in data.iterrows():\n",
    "        strings = 0\n",
    "        if isinstance(element[\"Sonuç\"], str) and element[\"Sonuç\"] != \"None\":\n",
    "            strings += 1\n",
    "            tn = f\"Test {element['Test Adı']}\"\n",
    "            tablename = element['Test Adı']\n",
    "            #tablename= data.iloc[index,0]\n",
    "            tn =  PrepTests(tablename)\n",
    "            Tests.append(tn)\n",
    "        else:\n",
    "            Tests[-1].make_df(add = True, dta = data.iloc[index])\n",
    "\n",
    "    for test in Tests:\n",
    "        test.dataframe = test.dataframe.transpose()"
   ]
  },
  {
   "cell_type": "code",
   "execution_count": 6,
   "metadata": {},
   "outputs": [],
   "source": [
    "data = pd.read_excel(\"Sample.xlsx\", header=0)\n",
    "#data = data.drop(columns= \"Referans Değer\")\n",
    "DataPrep(data)"
   ]
  },
  {
   "cell_type": "code",
   "execution_count": 7,
   "metadata": {},
   "outputs": [
    {
     "data": {
      "text/html": [
       "<div>\n",
       "<style scoped>\n",
       "    .dataframe tbody tr th:only-of-type {\n",
       "        vertical-align: middle;\n",
       "    }\n",
       "\n",
       "    .dataframe tbody tr th {\n",
       "        vertical-align: top;\n",
       "    }\n",
       "\n",
       "    .dataframe thead th {\n",
       "        text-align: right;\n",
       "    }\n",
       "</style>\n",
       "<table border=\"1\" class=\"dataframe\">\n",
       "  <thead>\n",
       "    <tr style=\"text-align: right;\">\n",
       "      <th></th>\n",
       "      <th>Test Adı</th>\n",
       "      <th>Sonuç</th>\n",
       "      <th>Birim</th>\n",
       "      <th>Referans Değer</th>\n",
       "    </tr>\n",
       "  </thead>\n",
       "  <tbody>\n",
       "    <tr>\n",
       "      <th>0</th>\n",
       "      <td>NMR Lipoporotein Profili</td>\n",
       "      <td>Sonuçlar için alt parametrelere bakınız. Teste...</td>\n",
       "      <td>NaN</td>\n",
       "      <td>NaN</td>\n",
       "    </tr>\n",
       "    <tr>\n",
       "      <th>1</th>\n",
       "      <td>Trigliserid</td>\n",
       "      <td>46</td>\n",
       "      <td>mg/dL</td>\n",
       "      <td>&lt;150 Optimal Düzey &gt;150 Artmış Kardiovasküler ...</td>\n",
       "    </tr>\n",
       "    <tr>\n",
       "      <th>2</th>\n",
       "      <td>Kolestrol, total</td>\n",
       "      <td>214</td>\n",
       "      <td>mg/dL</td>\n",
       "      <td>&lt;200 Optimal Düzey &gt;200 Artmış Kardiovasküler ...</td>\n",
       "    </tr>\n",
       "    <tr>\n",
       "      <th>3</th>\n",
       "      <td>Kolestrol, LDL</td>\n",
       "      <td>118</td>\n",
       "      <td>mg/dL</td>\n",
       "      <td>&lt;70 Kardiyovasküler Hastalığı Olanlarda Optima...</td>\n",
       "    </tr>\n",
       "    <tr>\n",
       "      <th>4</th>\n",
       "      <td>Kolestrol, HDL</td>\n",
       "      <td>88.5</td>\n",
       "      <td>mg/dL</td>\n",
       "      <td>&lt;50 Optimal Düzey &gt;50 Artmış Kardiovasküler Ha...</td>\n",
       "    </tr>\n",
       "  </tbody>\n",
       "</table>\n",
       "</div>"
      ],
      "text/plain": [
       "                   Test Adı  \\\n",
       "0  NMR Lipoporotein Profili   \n",
       "1               Trigliserid   \n",
       "2          Kolestrol, total   \n",
       "3            Kolestrol, LDL   \n",
       "4            Kolestrol, HDL   \n",
       "\n",
       "                                               Sonuç  Birim  \\\n",
       "0  Sonuçlar için alt parametrelere bakınız. Teste...    NaN   \n",
       "1                                                 46  mg/dL   \n",
       "2                                                214  mg/dL   \n",
       "3                                                118  mg/dL   \n",
       "4                                               88.5  mg/dL   \n",
       "\n",
       "                                      Referans Değer  \n",
       "0                                                NaN  \n",
       "1  <150 Optimal Düzey >150 Artmış Kardiovasküler ...  \n",
       "2  <200 Optimal Düzey >200 Artmış Kardiovasküler ...  \n",
       "3  <70 Kardiyovasküler Hastalığı Olanlarda Optima...  \n",
       "4  <50 Optimal Düzey >50 Artmış Kardiovasküler Ha...  "
      ]
     },
     "execution_count": 7,
     "metadata": {},
     "output_type": "execute_result"
    }
   ],
   "source": [
    "data.head()"
   ]
  },
  {
   "cell_type": "code",
   "execution_count": null,
   "metadata": {},
   "outputs": [],
   "source": [
    "data.loc[data[\"Test Adı\"] == \"Trigliserid\", \"Referans Değer\"]"
   ]
  }
 ],
 "metadata": {
  "kernelspec": {
   "display_name": "Python 3",
   "language": "python",
   "name": "python3"
  },
  "language_info": {
   "codemirror_mode": {
    "name": "ipython",
    "version": 3
   },
   "file_extension": ".py",
   "mimetype": "text/x-python",
   "name": "python",
   "nbconvert_exporter": "python",
   "pygments_lexer": "ipython3",
   "version": "3.10.12"
  }
 },
 "nbformat": 4,
 "nbformat_minor": 2
}
