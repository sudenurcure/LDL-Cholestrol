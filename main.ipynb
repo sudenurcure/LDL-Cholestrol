{
 "cells": [
  {
   "cell_type": "code",
   "execution_count": 138,
   "metadata": {},
   "outputs": [],
   "source": [
    "import pandas as pd\n",
    "from Test_Groups import Test_Groups"
   ]
  },
  {
   "cell_type": "code",
   "execution_count": 139,
   "metadata": {},
   "outputs": [],
   "source": [
    "data = pd.read_excel(\"Sample.xlsx\", header=0)\n",
    "Tests = []\n",
    "Test_Groups = Test_Groups #Required changes can be done for the current run "
   ]
  },
  {
   "cell_type": "code",
   "execution_count": 140,
   "metadata": {},
   "outputs": [],
   "source": [
    "class PrepTests:\n",
    "    \"\"\" Save testname and make a dataframe of test results.\n",
    "    \"\"\"\n",
    "    def __init__(self,name):\n",
    "        self.name = name\n",
    "        self.dataframe = self.make_df()\n",
    "\n",
    "    def make_df(self,add = False, dta =[]):\n",
    "        if add:\n",
    "            self.dataframe = pd.concat([self.dataframe, dta], axis= 1, ignore_index= True)\n",
    "            return\n",
    "        else:\n",
    "            df = pd.DataFrame()\n",
    "            return df"
   ]
  },
  {
   "cell_type": "code",
   "execution_count": 141,
   "metadata": {},
   "outputs": [],
   "source": [
    "for index, element in data.iterrows():\n",
    "    strings = 0\n",
    "    if isinstance(element[\"Sonuç\"], str):\n",
    "        strings += 1\n",
    "        tn = f\"test{strings}\"\n",
    "        tablename= data.iloc[index,0]\n",
    "        tn =  PrepTests(tablename)\n",
    "        Tests.append(tn)\n",
    "    else:\n",
    "        Tests[-1].make_df(add = True, dta = data.iloc[index])\n",
    "\n",
    "for test in Tests:\n",
    "    test.dataframe = test.dataframe.transpose() "
   ]
  },
  {
   "cell_type": "code",
   "execution_count": 142,
   "metadata": {},
   "outputs": [
    {
     "data": {
      "text/html": [
       "<div>\n",
       "<style scoped>\n",
       "    .dataframe tbody tr th:only-of-type {\n",
       "        vertical-align: middle;\n",
       "    }\n",
       "\n",
       "    .dataframe tbody tr th {\n",
       "        vertical-align: top;\n",
       "    }\n",
       "\n",
       "    .dataframe thead th {\n",
       "        text-align: right;\n",
       "    }\n",
       "</style>\n",
       "<table border=\"1\" class=\"dataframe\">\n",
       "  <thead>\n",
       "    <tr style=\"text-align: right;\">\n",
       "      <th></th>\n",
       "      <th>Test Adı</th>\n",
       "      <th>Sonuç</th>\n",
       "      <th>Birim</th>\n",
       "      <th>Referans Değer</th>\n",
       "    </tr>\n",
       "  </thead>\n",
       "  <tbody>\n",
       "    <tr>\n",
       "      <th>0</th>\n",
       "      <td>LDL Serbest Kolestrol</td>\n",
       "      <td>37.5</td>\n",
       "      <td>NaN</td>\n",
       "      <td>NaN</td>\n",
       "    </tr>\n",
       "    <tr>\n",
       "      <th>1</th>\n",
       "      <td>HDL Serbest Kolestrol</td>\n",
       "      <td>21.6</td>\n",
       "      <td>NaN</td>\n",
       "      <td>NaN</td>\n",
       "    </tr>\n",
       "    <tr>\n",
       "      <th>2</th>\n",
       "      <td>LDL-Serbest Kolestrol / LDL-Kolestrol</td>\n",
       "      <td>0.32</td>\n",
       "      <td>NaN</td>\n",
       "      <td>&lt;0.5 Optimal Düzey &gt;=0.5 Artmış Kardiovasküler...</td>\n",
       "    </tr>\n",
       "    <tr>\n",
       "      <th>3</th>\n",
       "      <td>HDL-Serbest Kolestrol / HDL-Kolestrol</td>\n",
       "      <td>0.24</td>\n",
       "      <td>NaN</td>\n",
       "      <td>&lt;0.5 Optimal Düzey &gt;=0.5 Artmış Kardiovasküler...</td>\n",
       "    </tr>\n",
       "  </tbody>\n",
       "</table>\n",
       "</div>"
      ],
      "text/plain": [
       "                                Test Adı Sonuç Birim  \\\n",
       "0                  LDL Serbest Kolestrol  37.5   NaN   \n",
       "1                  HDL Serbest Kolestrol  21.6   NaN   \n",
       "2  LDL-Serbest Kolestrol / LDL-Kolestrol  0.32   NaN   \n",
       "3  HDL-Serbest Kolestrol / HDL-Kolestrol  0.24   NaN   \n",
       "\n",
       "                                      Referans Değer  \n",
       "0                                                NaN  \n",
       "1                                                NaN  \n",
       "2  <0.5 Optimal Düzey >=0.5 Artmış Kardiovasküler...  \n",
       "3  <0.5 Optimal Düzey >=0.5 Artmış Kardiovasküler...  "
      ]
     },
     "execution_count": 142,
     "metadata": {},
     "output_type": "execute_result"
    }
   ],
   "source": [
    "Tests[3].dataframe\n"
   ]
  },
  {
   "cell_type": "code",
   "execution_count": 143,
   "metadata": {},
   "outputs": [
    {
     "data": {
      "text/plain": [
       "dict_keys(['Trigliserid', 'Kolestrol, total', 'Kolestrol, LDL', 'Kolestrol, HDL', 'Kolestrol, LDL/ Kolestrol, HDL Oranı', 'Apolipoprotein A1', 'Apolipoprotein A2', 'Apolipoprotein B100', 'Apo-B100 / Apo-A1 Oranı', 'Total ApoB Taşıyan Partikül Sayısı, Total ApoB-P', 'LDL Partikül Sayısı, LDL-P', 'IDL Partikül Sayısı, IDL-P', 'VLDL Partikül Sayısı, VLDL-P'])"
      ]
     },
     "execution_count": 143,
     "metadata": {},
     "output_type": "execute_result"
    }
   ],
   "source": [
    "Test_Groups[Tests[0].name].keys()"
   ]
  },
  {
   "cell_type": "code",
   "execution_count": 149,
   "metadata": {},
   "outputs": [],
   "source": [
    "for test in Tests:\n",
    "    if test.name in Test_Groups.keys():\n",
    "        Test_Groups[test.name]\n",
    "        for i in range(0,len(test.dataframe)):\n",
    "            specific_test = test.dataframe.iloc[i,0]\n",
    "            known_s_tests = Test_Groups[test.name].keys()\n",
    "            if specific_test in known_s_tests:\n",
    "                test.dataframe.at[i,\"Referans Değer\"] = Test_Groups[test.name][specific_test][\"Referans Değer\"]\n",
    "                test.dataframe.at[i,\"Birim\"] = Test_Groups[test.name][specific_test][\"Birim\"]\n",
    "                #print(test.name, specific_test, test.dataframe.at[i,\"Birim\"], test.dataframe.at[i,\"Referans Değer\"])"
   ]
  }
 ],
 "metadata": {
  "kernelspec": {
   "display_name": "Python 3",
   "language": "python",
   "name": "python3"
  },
  "language_info": {
   "name": "python",
   "version": "3.10.12"
  }
 },
 "nbformat": 4,
 "nbformat_minor": 2
}
