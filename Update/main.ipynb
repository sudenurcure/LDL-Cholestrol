{
 "cells": [
  {
   "cell_type": "code",
   "execution_count": 48,
   "metadata": {},
   "outputs": [],
   "source": [
    "import pandas as pd \n",
    "import matplotlib.pyplot as plt\n",
    "from test_groups import MONO, DI, NO, MULT\n",
    "from two_limits import t_chart\n",
    "from save_plot import insert_plot as IP"
   ]
  },
  {
   "cell_type": "code",
   "execution_count": 49,
   "metadata": {},
   "outputs": [],
   "source": [
    "maindata = pd.read_csv(\"lipo_result_file_1.csv\")\n",
    "maindata.drop([\"Directory\",\"name\",\"date\",\"type\"],axis = 1, inplace=True)"
   ]
  },
  {
   "cell_type": "markdown",
   "metadata": {},
   "source": [
    "### Check Data"
   ]
  },
  {
   "cell_type": "code",
   "execution_count": 50,
   "metadata": {},
   "outputs": [
    {
     "data": {
      "text/html": [
       "<div>\n",
       "<style scoped>\n",
       "    .dataframe tbody tr th:only-of-type {\n",
       "        vertical-align: middle;\n",
       "    }\n",
       "\n",
       "    .dataframe tbody tr th {\n",
       "        vertical-align: top;\n",
       "    }\n",
       "\n",
       "    .dataframe thead th {\n",
       "        text-align: right;\n",
       "    }\n",
       "</style>\n",
       "<table border=\"1\" class=\"dataframe\">\n",
       "  <thead>\n",
       "    <tr style=\"text-align: right;\">\n",
       "      <th></th>\n",
       "      <th>Sample Name</th>\n",
       "      <th>TPTG [mg/dL]</th>\n",
       "      <th>TPCH [mg/dL]</th>\n",
       "      <th>LDCH [mg/dL]</th>\n",
       "      <th>HDCH [mg/dL]</th>\n",
       "      <th>TPA1 [mg/dL]</th>\n",
       "      <th>TPA2 [mg/dL]</th>\n",
       "      <th>TPAB [mg/dL]</th>\n",
       "      <th>LDHD [-/-]</th>\n",
       "      <th>ABA1 [-/-]</th>\n",
       "      <th>...</th>\n",
       "      <th>H3PL [mg/dL]</th>\n",
       "      <th>H4PL [mg/dL]</th>\n",
       "      <th>H1A1 [mg/dL]</th>\n",
       "      <th>H2A1 [mg/dL]</th>\n",
       "      <th>H3A1 [mg/dL]</th>\n",
       "      <th>H4A1 [mg/dL]</th>\n",
       "      <th>H1A2 [mg/dL]</th>\n",
       "      <th>H2A2 [mg/dL]</th>\n",
       "      <th>H3A2 [mg/dL]</th>\n",
       "      <th>H4A2 [mg/dL]</th>\n",
       "    </tr>\n",
       "  </thead>\n",
       "  <tbody>\n",
       "    <tr>\n",
       "      <th>0</th>\n",
       "      <td>ATB_Plasma_Lipofit_03032023</td>\n",
       "      <td>79.08</td>\n",
       "      <td>241.99</td>\n",
       "      <td>161.65</td>\n",
       "      <td>67.62</td>\n",
       "      <td>163.90</td>\n",
       "      <td>39.93</td>\n",
       "      <td>97.06</td>\n",
       "      <td>2.39</td>\n",
       "      <td>0.59</td>\n",
       "      <td>...</td>\n",
       "      <td>16.47</td>\n",
       "      <td>36.29</td>\n",
       "      <td>15.67</td>\n",
       "      <td>17.38</td>\n",
       "      <td>27.55</td>\n",
       "      <td>103.43</td>\n",
       "      <td>1.48</td>\n",
       "      <td>3.23</td>\n",
       "      <td>6.95</td>\n",
       "      <td>28.66</td>\n",
       "    </tr>\n",
       "    <tr>\n",
       "      <th>1</th>\n",
       "      <td>MS_Plasma_Lipofit_03032023</td>\n",
       "      <td>277.08</td>\n",
       "      <td>214.51</td>\n",
       "      <td>109.77</td>\n",
       "      <td>53.12</td>\n",
       "      <td>151.51</td>\n",
       "      <td>37.45</td>\n",
       "      <td>103.81</td>\n",
       "      <td>2.07</td>\n",
       "      <td>0.69</td>\n",
       "      <td>...</td>\n",
       "      <td>14.31</td>\n",
       "      <td>35.86</td>\n",
       "      <td>9.11</td>\n",
       "      <td>15.08</td>\n",
       "      <td>21.59</td>\n",
       "      <td>101.89</td>\n",
       "      <td>0.98</td>\n",
       "      <td>2.45</td>\n",
       "      <td>6.29</td>\n",
       "      <td>30.10</td>\n",
       "    </tr>\n",
       "  </tbody>\n",
       "</table>\n",
       "<p>2 rows × 113 columns</p>\n",
       "</div>"
      ],
      "text/plain": [
       "                   Sample Name  TPTG [mg/dL]  TPCH [mg/dL]  LDCH [mg/dL]  \\\n",
       "0  ATB_Plasma_Lipofit_03032023         79.08        241.99        161.65   \n",
       "1   MS_Plasma_Lipofit_03032023        277.08        214.51        109.77   \n",
       "\n",
       "   HDCH [mg/dL]  TPA1 [mg/dL]  TPA2 [mg/dL]  TPAB [mg/dL]  LDHD [-/-]  \\\n",
       "0         67.62        163.90         39.93         97.06        2.39   \n",
       "1         53.12        151.51         37.45        103.81        2.07   \n",
       "\n",
       "   ABA1 [-/-]  ...  H3PL [mg/dL]  H4PL [mg/dL]  H1A1 [mg/dL]  H2A1 [mg/dL]  \\\n",
       "0        0.59  ...         16.47         36.29         15.67         17.38   \n",
       "1        0.69  ...         14.31         35.86          9.11         15.08   \n",
       "\n",
       "   H3A1 [mg/dL]  H4A1 [mg/dL]  H1A2 [mg/dL]  H2A2 [mg/dL]  H3A2 [mg/dL]  \\\n",
       "0         27.55        103.43          1.48          3.23          6.95   \n",
       "1         21.59        101.89          0.98          2.45          6.29   \n",
       "\n",
       "   H4A2 [mg/dL]  \n",
       "0         28.66  \n",
       "1         30.10  \n",
       "\n",
       "[2 rows x 113 columns]"
      ]
     },
     "execution_count": 50,
     "metadata": {},
     "output_type": "execute_result"
    }
   ],
   "source": [
    "maindata"
   ]
  },
  {
   "cell_type": "code",
   "execution_count": 51,
   "metadata": {},
   "outputs": [
    {
     "data": {
      "text/plain": [
       "Sample Name     0\n",
       "TPTG [mg/dL]    0\n",
       "TPCH [mg/dL]    0\n",
       "LDCH [mg/dL]    0\n",
       "HDCH [mg/dL]    0\n",
       "               ..\n",
       "H4A1 [mg/dL]    0\n",
       "H1A2 [mg/dL]    0\n",
       "H2A2 [mg/dL]    0\n",
       "H3A2 [mg/dL]    0\n",
       "H4A2 [mg/dL]    0\n",
       "Length: 113, dtype: int64"
      ]
     },
     "execution_count": 51,
     "metadata": {},
     "output_type": "execute_result"
    }
   ],
   "source": [
    "maindata.isna().sum()"
   ]
  },
  {
   "cell_type": "code",
   "execution_count": 52,
   "metadata": {},
   "outputs": [
    {
     "data": {
      "text/plain": [
       "(2, 113)"
      ]
     },
     "execution_count": 52,
     "metadata": {},
     "output_type": "execute_result"
    }
   ],
   "source": [
    "maindata.shape"
   ]
  },
  {
   "cell_type": "code",
   "execution_count": 53,
   "metadata": {},
   "outputs": [],
   "source": [
    "df = maindata.iloc[0]"
   ]
  },
  {
   "cell_type": "code",
   "execution_count": 54,
   "metadata": {},
   "outputs": [
    {
     "data": {
      "text/plain": [
       "Sample Name     ATB_Plasma_Lipofit_03032023\n",
       "TPTG [mg/dL]                          79.08\n",
       "TPCH [mg/dL]                         241.99\n",
       "LDCH [mg/dL]                         161.65\n",
       "HDCH [mg/dL]                          67.62\n",
       "                           ...             \n",
       "H4A1 [mg/dL]                         103.43\n",
       "H1A2 [mg/dL]                           1.48\n",
       "H2A2 [mg/dL]                           3.23\n",
       "H3A2 [mg/dL]                           6.95\n",
       "H4A2 [mg/dL]                          28.66\n",
       "Name: 0, Length: 113, dtype: object"
      ]
     },
     "execution_count": 54,
     "metadata": {},
     "output_type": "execute_result"
    }
   ],
   "source": [
    "df"
   ]
  },
  {
   "cell_type": "code",
   "execution_count": 55,
   "metadata": {},
   "outputs": [
    {
     "data": {
      "text/plain": [
       "(113,)"
      ]
     },
     "execution_count": 55,
     "metadata": {},
     "output_type": "execute_result"
    }
   ],
   "source": [
    "df.shape"
   ]
  },
  {
   "cell_type": "code",
   "execution_count": 56,
   "metadata": {},
   "outputs": [],
   "source": [
    "tests = pd.Series(df.index)"
   ]
  },
  {
   "cell_type": "code",
   "execution_count": 57,
   "metadata": {},
   "outputs": [
    {
     "data": {
      "text/plain": [
       "0       Sample Name\n",
       "1      TPTG [mg/dL]\n",
       "2      TPCH [mg/dL]\n",
       "3      LDCH [mg/dL]\n",
       "4      HDCH [mg/dL]\n",
       "           ...     \n",
       "108    H4A1 [mg/dL]\n",
       "109    H1A2 [mg/dL]\n",
       "110    H2A2 [mg/dL]\n",
       "111    H3A2 [mg/dL]\n",
       "112    H4A2 [mg/dL]\n",
       "Length: 113, dtype: object"
      ]
     },
     "execution_count": 57,
     "metadata": {},
     "output_type": "execute_result"
    }
   ],
   "source": [
    "tests"
   ]
  },
  {
   "cell_type": "markdown",
   "metadata": {},
   "source": [
    "### Regular Expressions"
   ]
  },
  {
   "cell_type": "markdown",
   "metadata": {},
   "source": [
    "#### Subfractions"
   ]
  },
  {
   "cell_type": "code",
   "execution_count": 58,
   "metadata": {},
   "outputs": [],
   "source": [
    "re_HDL_subf = r\"H\\d+\"\n",
    "re_LDL_subf = r\"L\\d+\"\n",
    "re_VLDL_subf =r\"V\\d+\""
   ]
  },
  {
   "cell_type": "code",
   "execution_count": 59,
   "metadata": {},
   "outputs": [],
   "source": [
    "HDL_subf = tests[tests.str.contains(re_HDL_subf)]\n",
    "LDL_subf = tests[tests.str.contains(re_LDL_subf)]\n",
    "VLDL_subf = tests[tests.str.contains(re_VLDL_subf)]"
   ]
  },
  {
   "cell_type": "code",
   "execution_count": 60,
   "metadata": {},
   "outputs": [],
   "source": [
    "re_HDL = r\"^HD+\"\n",
    "re_IDL = r\"^ID+\"\n",
    "re_LDL = r\"^LD+\"\n",
    "re_VLDL =r\"^VL+\""
   ]
  },
  {
   "cell_type": "code",
   "execution_count": 61,
   "metadata": {},
   "outputs": [],
   "source": [
    "m_HDL = tests[tests.str.contains(re_HDL)]\n",
    "m_IDL = tests[tests.str.contains(re_IDL)]\n",
    "m_LDL = tests[tests.str.contains(re_LDL)]\n",
    "m_VLDL = tests[tests.str.contains(re_VLDL)]"
   ]
  },
  {
   "cell_type": "code",
   "execution_count": 62,
   "metadata": {},
   "outputs": [],
   "source": [
    "chol = r\"[A-Za-z]\\dCH\"\n",
    "freechol = r\"[A-Za-z]\\dFC\"\n",
    "phos = r\"[A-Za-z]\\dPL\"\n",
    "pnum = r\"[A-Za-z]\\dPN\"\n",
    "trig = r\"[A-Za-z]\\dTG\""
   ]
  },
  {
   "cell_type": "markdown",
   "metadata": {},
   "source": [
    "#### HDL"
   ]
  },
  {
   "cell_type": "code",
   "execution_count": 63,
   "metadata": {},
   "outputs": [],
   "source": [
    "apo = r\"H1A\\d\"\n",
    "HDL_APO = HDL_subf[HDL_subf.str.contains(apo)]"
   ]
  },
  {
   "cell_type": "code",
   "execution_count": 64,
   "metadata": {},
   "outputs": [],
   "source": [
    "HDL_chol_subf = HDL_subf[HDL_subf.str.contains(chol)]\n",
    "HDL_fchol_subf = HDL_subf[HDL_subf.str.contains(freechol)]\n",
    "HDL_phos_subf = HDL_subf[HDL_subf.str.contains(phos)]\n",
    "HDL_trig_subf = HDL_subf[HDL_subf.str.contains(trig)]"
   ]
  },
  {
   "cell_type": "markdown",
   "metadata": {},
   "source": [
    "##### LDL"
   ]
  },
  {
   "cell_type": "code",
   "execution_count": 65,
   "metadata": {},
   "outputs": [
    {
     "data": {
      "text/plain": [
       "83    L1AB [mg/dL]\n",
       "84    L2AB [mg/dL]\n",
       "85    L3AB [mg/dL]\n",
       "86    L4AB [mg/dL]\n",
       "87    L5AB [mg/dL]\n",
       "88    L6AB [mg/dL]\n",
       "dtype: object"
      ]
     },
     "execution_count": 65,
     "metadata": {},
     "output_type": "execute_result"
    }
   ],
   "source": [
    "apo = r\"L\\dAB\"\n",
    "LDL_APO = LDL_subf[LDL_subf.str.contains(apo)]\n",
    "LDL_APO"
   ]
  },
  {
   "cell_type": "code",
   "execution_count": 66,
   "metadata": {},
   "outputs": [],
   "source": [
    "LDL_chol_subf = LDL_subf[LDL_subf.str.contains(chol)]\n",
    "LDL_fchol_subf = LDL_subf[LDL_subf.str.contains(freechol)]\n",
    "LDL_phos_subf = LDL_subf[LDL_subf.str.contains(phos)]\n",
    "LDL_pnum_subf = LDL_subf[LDL_subf.str.contains(pnum)]\n",
    "LDL_trig_subf = LDL_subf[LDL_subf.str.contains(trig)]"
   ]
  },
  {
   "cell_type": "markdown",
   "metadata": {},
   "source": [
    "#### VLDL"
   ]
  },
  {
   "cell_type": "code",
   "execution_count": 67,
   "metadata": {},
   "outputs": [],
   "source": [
    "VLDL_chol_subf = VLDL_subf[VLDL_subf.str.contains(chol)]\n",
    "VLDL_fchol_subf = VLDL_subf[VLDL_subf.str.contains(freechol)]\n",
    "VLDL_phos_subf = VLDL_subf[VLDL_subf.str.contains(phos)]\n",
    "VLDL_trig_subf = VLDL_subf[VLDL_subf.str.contains(trig)]"
   ]
  },
  {
   "cell_type": "markdown",
   "metadata": {},
   "source": [
    "#### Lipoproteins"
   ]
  },
  {
   "cell_type": "code",
   "execution_count": 68,
   "metadata": {},
   "outputs": [],
   "source": [
    "re_HDLP = r\"HD+\"\n",
    "re_LDLP = r\"LD+\"\n",
    "re_IDLP = r\"ID+\"\n",
    "re_VLDLP =r\"VL+\""
   ]
  },
  {
   "cell_type": "code",
   "execution_count": 69,
   "metadata": {},
   "outputs": [],
   "source": [
    "HDLP = tests[tests.str.contains(re_HDLP)]\n",
    "LDLP = tests[tests.str.contains(re_LDLP)]\n",
    "IDLP = tests[tests.str.contains(re_IDLP)]\n",
    "VLDLP = tests[tests.str.contains(re_VLDLP)]"
   ]
  },
  {
   "cell_type": "markdown",
   "metadata": {},
   "source": [
    "#### Lipoprotein Main Fractions"
   ]
  },
  {
   "cell_type": "code",
   "execution_count": 70,
   "metadata": {},
   "outputs": [],
   "source": [
    "re_mainfrac = r\"TP+\"\n",
    "LPMainF = tests[tests.str.contains(re_mainfrac)] \n",
    "LPMainF_list = LPMainF.tolist()\n",
    "LPMainF_list.append(\"ABA1 [-/-]\")\n",
    "LPMainF_list.append(\"TBPN [nmol/L]\")\n",
    "LPMainF = pd.Series(LPMainF_list)"
   ]
  },
  {
   "cell_type": "markdown",
   "metadata": {},
   "source": [
    "### LDL Subfractions"
   ]
  },
  {
   "cell_type": "markdown",
   "metadata": {},
   "source": [
    "LDL_APO\\\n",
    "LDL_chol_subf\\\n",
    "LDL_fchol_subf\\\n",
    "LDL_phos_subf\\\n",
    "LDL_pnum_subf\\\n",
    "LDL_trig_subf\\\n",
    "\\\n",
    "for low density lipoprotein fractions.\n",
    "Data is df "
   ]
  },
  {
   "cell_type": "markdown",
   "metadata": {},
   "source": [
    "##### Particle Number"
   ]
  },
  {
   "cell_type": "code",
   "execution_count": 71,
   "metadata": {},
   "outputs": [],
   "source": [
    "ldf = df[LDL_pnum_subf]\n",
    "\n",
    "plt.plot(ldf.index.str.replace(\"[nmol/L]\",\"\"), ldf.values, marker='o', linestyle='-')\n",
    "\n",
    "plt.title('LDL Particle Subfractions')\n",
    "plt.xlabel('Fractions')\n",
    "plt.ylabel('nmol/L')\n",
    "\n",
    "plt.xticks(fontsize=8)\n",
    "plt.yticks(fontsize=8)\n",
    "\n",
    "plt.grid(True)\n",
    "IP(\"LDL_SUBF\",\"ldlsubparticlenum.png\",plt)"
   ]
  },
  {
   "cell_type": "markdown",
   "metadata": {},
   "source": [
    "##### Cholestrol"
   ]
  },
  {
   "cell_type": "code",
   "execution_count": 72,
   "metadata": {},
   "outputs": [],
   "source": [
    "ldf = df[LDL_chol_subf]\n",
    "\n",
    "plt.plot(ldf.index.str.replace(\"[mg/dL]\",\"\"), ldf.values, marker='o', linestyle='-')\n",
    "\n",
    "plt.title('LDL Cholestrol Subfractions')\n",
    "plt.xlabel('Fractions')\n",
    "plt.ylabel('mg/dL')\n",
    "\n",
    "plt.xticks(fontsize=8)\n",
    "plt.yticks(fontsize=8)\n",
    "\n",
    "plt.grid(True)\n",
    "IP(\"LDL_SUBF\",\"chol.png\",plt)"
   ]
  },
  {
   "cell_type": "markdown",
   "metadata": {},
   "source": [
    "##### Free Cholestrol"
   ]
  },
  {
   "cell_type": "code",
   "execution_count": 73,
   "metadata": {},
   "outputs": [],
   "source": [
    "ldf = df[LDL_fchol_subf]\n",
    "\n",
    "plt.plot(ldf.index.str.replace(\"[mg/dL]\",\"\"), ldf.values, marker='o', linestyle='-')\n",
    "\n",
    "plt.title('LDL Free Cholestrol Subfractions')\n",
    "plt.xlabel('Fractions')\n",
    "plt.ylabel('mg/dL')\n",
    "\n",
    "plt.xticks(fontsize=8)\n",
    "plt.yticks(fontsize=8)\n",
    "\n",
    "plt.grid(True)\n",
    "IP(\"LDL_SUBF\",\"freechol.png\",plt)"
   ]
  },
  {
   "cell_type": "markdown",
   "metadata": {},
   "source": [
    "##### Phospolipid"
   ]
  },
  {
   "cell_type": "code",
   "execution_count": 74,
   "metadata": {},
   "outputs": [],
   "source": [
    "ldf = df[LDL_phos_subf]\n",
    "\n",
    "plt.plot(ldf.index.str.replace(\"[mg/dL]\",\"\"), ldf.values, marker='o', linestyle='-')\n",
    "\n",
    "plt.title('LDL Phospolipid Subfractions')\n",
    "plt.xlabel('Fractions')\n",
    "plt.ylabel('mg/dL')\n",
    "\n",
    "plt.xticks(fontsize=8)\n",
    "plt.yticks(fontsize=8)\n",
    "\n",
    "plt.grid(True)\n",
    "IP(\"LDL_SUBF\",\"phospolipid.png\",plt)"
   ]
  },
  {
   "cell_type": "markdown",
   "metadata": {},
   "source": [
    "##### Triglycerides"
   ]
  },
  {
   "cell_type": "code",
   "execution_count": 75,
   "metadata": {},
   "outputs": [],
   "source": [
    "ldf = df[LDL_trig_subf]\n",
    "\n",
    "plt.plot(ldf.index.str.replace(\"[mg/dL]\",\"\"), ldf.values, marker='o', linestyle='-')\n",
    "\n",
    "plt.title('LDL Cholestrol Subfractions')\n",
    "plt.xlabel('Fractions')\n",
    "plt.ylabel('mg/dL')\n",
    "\n",
    "plt.xticks(fontsize=8)\n",
    "plt.yticks(fontsize=8)\n",
    "\n",
    "plt.grid(True)\n",
    "IP(\"LDL_SUBF\",\"triglycerides.png\",plt)"
   ]
  },
  {
   "cell_type": "markdown",
   "metadata": {},
   "source": [
    "### HDL Subfractions"
   ]
  },
  {
   "cell_type": "markdown",
   "metadata": {},
   "source": [
    "HDL_APO\\\n",
    "HDL_chol_subf\\\n",
    "HDL_fchol_subf\\\n",
    "HDL_phos_subf\\\n",
    "HDL_trig_subf\\\n",
    "\\\n",
    "for high density lipoprotein fractions.\n",
    "Data is df "
   ]
  },
  {
   "cell_type": "markdown",
   "metadata": {},
   "source": [
    "##### Cholestrol"
   ]
  },
  {
   "cell_type": "code",
   "execution_count": 76,
   "metadata": {},
   "outputs": [],
   "source": [
    "hdf = df[HDL_chol_subf]\n",
    "\n",
    "plt.plot(hdf.index.str.replace(\"[mg/dL]\",\"\"), hdf.values, marker='o', linestyle='-')\n",
    "\n",
    "plt.title('HDL Cholestrol Subfractions')\n",
    "plt.xlabel('Fractions')\n",
    "plt.ylabel('mg/dL')\n",
    "\n",
    "plt.xticks(fontsize=8)\n",
    "plt.yticks(fontsize=8)\n",
    "\n",
    "plt.grid(True)\n",
    "IP(\"HDL_SUBF\",\"chol.png\",plt)"
   ]
  },
  {
   "cell_type": "markdown",
   "metadata": {},
   "source": [
    "##### Free Cholestrol"
   ]
  },
  {
   "cell_type": "code",
   "execution_count": 77,
   "metadata": {},
   "outputs": [],
   "source": [
    "hdf = df[HDL_fchol_subf]\n",
    "\n",
    "plt.plot(hdf.index.str.replace(\"[mg/dL]\",\"\"), hdf.values, marker='o', linestyle='-')\n",
    "\n",
    "plt.title('HDL Free Cholestrol Subfractions')\n",
    "plt.xlabel('Fractions')\n",
    "plt.ylabel('mg/dL')\n",
    "\n",
    "plt.xticks(fontsize=8)\n",
    "plt.yticks(fontsize=8)\n",
    "\n",
    "plt.grid(True)\n",
    "IP(\"HDL_SUBF\",\"freechol.png\",plt)"
   ]
  },
  {
   "cell_type": "markdown",
   "metadata": {},
   "source": [
    "##### Phospolipid"
   ]
  },
  {
   "cell_type": "code",
   "execution_count": 78,
   "metadata": {},
   "outputs": [],
   "source": [
    "hdf = df[HDL_phos_subf]\n",
    "\n",
    "plt.plot(hdf.index.str.replace(\"[mg/dL]\",\"\"), hdf.values, marker='o', linestyle='-')\n",
    "\n",
    "plt.title('HDL Phospolipid Subfractions')\n",
    "plt.xlabel('Fractions')\n",
    "plt.ylabel('mg/dL')\n",
    "\n",
    "plt.xticks(fontsize=8)\n",
    "plt.yticks(fontsize=8)\n",
    "\n",
    "plt.grid(True)\n",
    "IP(\"HDL_SUBF\",\"phospolipid.png\",plt)"
   ]
  },
  {
   "cell_type": "markdown",
   "metadata": {},
   "source": [
    "##### Triglycerides"
   ]
  },
  {
   "cell_type": "code",
   "execution_count": 79,
   "metadata": {},
   "outputs": [],
   "source": [
    "hdf = df[HDL_trig_subf]\n",
    "\n",
    "plt.plot(hdf.index.str.replace(\"[mg/dL]\",\"\"), hdf.values, marker='o', linestyle='-')\n",
    "\n",
    "plt.title('HDL Subfractions')\n",
    "plt.xlabel('Fractions')\n",
    "plt.ylabel('mg/dL')\n",
    "\n",
    "plt.xticks(fontsize=8)\n",
    "plt.yticks(fontsize=8)\n",
    "\n",
    "plt.grid(True)\n",
    "IP(\"HDL_SUBF\",\"triglycerides.png\",plt)"
   ]
  },
  {
   "cell_type": "markdown",
   "metadata": {},
   "source": [
    "### VLDL Subfractions"
   ]
  },
  {
   "cell_type": "markdown",
   "metadata": {},
   "source": [
    "VLDL_chol_subf\\\n",
    "VLDL_fchol_subf\\\n",
    "VLDL_phos_subf\\\n",
    "VLDL_trig_subf\\\n",
    "\\\n",
    "for very low density lipoprotein fractions.\n",
    "Data is df "
   ]
  },
  {
   "cell_type": "markdown",
   "metadata": {},
   "source": [
    "##### Cholestrol"
   ]
  },
  {
   "cell_type": "code",
   "execution_count": 80,
   "metadata": {},
   "outputs": [],
   "source": [
    "vdf = df[VLDL_chol_subf]\n",
    "\n",
    "plt.plot(vdf.index.str.replace(\"[mg/dL]\",\"\"), vdf.values, marker='o', linestyle='-')\n",
    "\n",
    "plt.title('VLDL Cholestrol Subfractions')\n",
    "plt.xlabel('Fractions')\n",
    "plt.ylabel('mg/dL')\n",
    "\n",
    "plt.xticks(fontsize=8)\n",
    "plt.yticks(fontsize=8)\n",
    "\n",
    "plt.grid(True)\n",
    "IP(\"VLDL_SUBF\",\"chol.png\",plt)"
   ]
  },
  {
   "cell_type": "markdown",
   "metadata": {},
   "source": [
    "##### Free Cholestrol"
   ]
  },
  {
   "cell_type": "code",
   "execution_count": 81,
   "metadata": {},
   "outputs": [],
   "source": [
    "vdf = df[VLDL_fchol_subf]\n",
    "\n",
    "plt.plot(vdf.index.str.replace(\"[mg/dL]\",\"\"), vdf.values, marker='o', linestyle='-')\n",
    "\n",
    "plt.title('VLDL Free Cholestrol Subfractions')\n",
    "plt.xlabel('Fractions')\n",
    "plt.ylabel('mg/dL')\n",
    "\n",
    "plt.xticks(fontsize=8)\n",
    "plt.yticks(fontsize=8)\n",
    "\n",
    "plt.grid(True)\n",
    "IP(\"VLDL_SUBF\",\"freechol.png\",plt)"
   ]
  },
  {
   "cell_type": "markdown",
   "metadata": {},
   "source": [
    "##### Phospolipid"
   ]
  },
  {
   "cell_type": "code",
   "execution_count": 95,
   "metadata": {},
   "outputs": [],
   "source": [
    "vdf = df[VLDL_phos_subf]\n",
    "\n",
    "plt.plot(vdf.index.str.replace(\"[mg/dL]\",\"\"), vdf.values, marker='o', linestyle='-')\n",
    "\n",
    "plt.title('VLDL Phospolipid Subfractions')\n",
    "plt.xlabel('Fractions')\n",
    "plt.ylabel('mg/dL')\n",
    "\n",
    "plt.xticks(fontsize=8)\n",
    "plt.yticks(fontsize=8)\n",
    "\n",
    "plt.grid(True)\n",
    "IP(\"VLDL_SUBF\",\"phospolipid.png\",plt)"
   ]
  },
  {
   "cell_type": "markdown",
   "metadata": {},
   "source": [
    "##### Triglycerides"
   ]
  },
  {
   "cell_type": "code",
   "execution_count": 83,
   "metadata": {},
   "outputs": [],
   "source": [
    "vdf = df[VLDL_trig_subf]\n",
    "\n",
    "plt.plot(vdf.index.str.replace(\"[mg/dL]\",\"\"), vdf.values, marker='o', linestyle='-')\n",
    "\n",
    "plt.title('Low Density Lipoprotein Cholestrol Subfractions')\n",
    "plt.xlabel('Fractions')\n",
    "plt.ylabel('mg/dL')\n",
    "\n",
    "plt.xticks(fontsize=8)\n",
    "plt.yticks(fontsize=8)\n",
    "\n",
    "plt.grid(True)\n",
    "IP(\"VLDL_SUBF\",\"triglycerides.png\",plt)"
   ]
  },
  {
   "cell_type": "markdown",
   "metadata": {},
   "source": [
    "### Chart Tests"
   ]
  },
  {
   "cell_type": "code",
   "execution_count": 84,
   "metadata": {},
   "outputs": [
    {
     "data": {
      "text/plain": [
       "TPTG [mg/dL]       79.08\n",
       "TPCH [mg/dL]      241.99\n",
       "TPA1 [mg/dL]       163.9\n",
       "TPA2 [mg/dL]       39.93\n",
       "TPAB [mg/dL]       97.06\n",
       "ABA1 [-/-]          0.59\n",
       "TBPN [nmol/L]    1764.78\n",
       "Name: 0, dtype: object"
      ]
     },
     "execution_count": 84,
     "metadata": {},
     "output_type": "execute_result"
    }
   ],
   "source": [
    "lp_df = df[LPMainF]\n",
    "lp_df"
   ]
  },
  {
   "cell_type": "code",
   "execution_count": 85,
   "metadata": {},
   "outputs": [
    {
     "data": {
      "text/plain": [
       "HDCH [mg/dL]     67.62\n",
       "HDTG [mg/dL]      4.27\n",
       "HDFC [mg/dL]     11.75\n",
       "HDPL [mg/dL]     76.99\n",
       "HDA1 [mg/dL]    163.36\n",
       "HDA2 [mg/dL]      40.0\n",
       "Name: 0, dtype: object"
      ]
     },
     "execution_count": 85,
     "metadata": {},
     "output_type": "execute_result"
    }
   ],
   "source": [
    "hdl_df = df[m_HDL]\n",
    "hdl_df"
   ]
  },
  {
   "cell_type": "code",
   "execution_count": 86,
   "metadata": {},
   "outputs": [
    {
     "data": {
      "text/plain": [
       "IDPN [nmol/L]    73.62\n",
       "IDTG [mg/dL]      7.28\n",
       "IDCH [mg/dL]     11.08\n",
       "IDFC [mg/dL]      3.15\n",
       "IDPL [mg/dL]      7.26\n",
       "IDAB [mg/dL]      4.05\n",
       "Name: 0, dtype: object"
      ]
     },
     "execution_count": 86,
     "metadata": {},
     "output_type": "execute_result"
    }
   ],
   "source": [
    "idl_df = df[m_IDL]\n",
    "idl_df"
   ]
  },
  {
   "cell_type": "code",
   "execution_count": 87,
   "metadata": {},
   "outputs": [
    {
     "data": {
      "text/plain": [
       "LDCH [mg/dL]      161.65\n",
       "LDHD [-/-]          2.39\n",
       "LDPN [nmol/L]    1623.31\n",
       "LDTG [mg/dL]       13.49\n",
       "LDFC [mg/dL]       44.09\n",
       "LDPL [mg/dL]       85.15\n",
       "LDAB [mg/dL]       89.28\n",
       "Name: 0, dtype: object"
      ]
     },
     "execution_count": 87,
     "metadata": {},
     "output_type": "execute_result"
    }
   ],
   "source": [
    "ldl_df = df[m_LDL]\n",
    "ldl_df"
   ]
  },
  {
   "cell_type": "code",
   "execution_count": 88,
   "metadata": {},
   "outputs": [
    {
     "data": {
      "text/plain": [
       "VLPN [nmol/L]    80.26\n",
       "VLTG [mg/dL]     61.57\n",
       "VLCH [mg/dL]      9.09\n",
       "VLFC [mg/dL]      5.42\n",
       "VLPL [mg/dL]     14.82\n",
       "VLAB [mg/dL]      4.41\n",
       "Name: 0, dtype: object"
      ]
     },
     "execution_count": 88,
     "metadata": {},
     "output_type": "execute_result"
    }
   ],
   "source": [
    "vldl_df = df[m_VLDL]\n",
    "vldl_df"
   ]
  },
  {
   "cell_type": "markdown",
   "metadata": {},
   "source": [
    "Tests to be charted:"
   ]
  },
  {
   "cell_type": "code",
   "execution_count": 89,
   "metadata": {},
   "outputs": [
    {
     "data": {
      "text/plain": [
       "['TPTG [mg/dL]',\n",
       " 'TPCH [mg/dL]',\n",
       " 'TPA1 [mg/dL]',\n",
       " 'TPA2 [mg/dL]',\n",
       " 'TPAB [mg/dL]',\n",
       " 'ABA1 [-/-]',\n",
       " 'TBPN [nmol/L]',\n",
       " 'HDCH [mg/dL]',\n",
       " 'HDTG [mg/dL]',\n",
       " 'HDFC [mg/dL]',\n",
       " 'HDPL [mg/dL]',\n",
       " 'HDA1 [mg/dL]',\n",
       " 'HDA2 [mg/dL]',\n",
       " 'IDPN [nmol/L]',\n",
       " 'IDTG [mg/dL]',\n",
       " 'IDCH [mg/dL]',\n",
       " 'IDFC [mg/dL]',\n",
       " 'IDPL [mg/dL]',\n",
       " 'IDAB [mg/dL]',\n",
       " 'LDCH [mg/dL]',\n",
       " 'LDHD [-/-]',\n",
       " 'LDPN [nmol/L]',\n",
       " 'LDTG [mg/dL]',\n",
       " 'LDFC [mg/dL]',\n",
       " 'LDPL [mg/dL]',\n",
       " 'LDAB [mg/dL]',\n",
       " 'VLPN [nmol/L]',\n",
       " 'VLTG [mg/dL]',\n",
       " 'VLCH [mg/dL]',\n",
       " 'VLFC [mg/dL]',\n",
       " 'VLPL [mg/dL]',\n",
       " 'VLAB [mg/dL]']"
      ]
     },
     "execution_count": 89,
     "metadata": {},
     "output_type": "execute_result"
    }
   ],
   "source": [
    "nc_tests = lp_df.index.to_list() + hdl_df.index.to_list() + idl_df.index.to_list() + ldl_df.index.to_list() + vldl_df.index.to_list()\n",
    "nc_tests"
   ]
  },
  {
   "cell_type": "code",
   "execution_count": 90,
   "metadata": {},
   "outputs": [
    {
     "name": "stdout",
     "output_type": "stream",
     "text": [
      "Tests: \n",
      "\n",
      "TPA1 [mg/dL]\n",
      "TPA2 [mg/dL]\n",
      "TPAB [mg/dL]\n",
      "HDFC [mg/dL]\n",
      "LDFC [mg/dL]\n",
      "\n",
      "have no reference value in system.\n",
      "\n",
      "\n",
      "Tests: \n",
      "\n",
      "HDTG [mg/dL]\n",
      "HDPL [mg/dL]\n",
      "HDA1 [mg/dL]\n",
      "HDA2 [mg/dL]\n",
      "IDPN [nmol/L]\n",
      "IDFC [mg/dL]\n",
      "IDPL [mg/dL]\n",
      "LDPL [mg/dL]\n",
      "VLCH [mg/dL]\n",
      "VLFC [mg/dL]\n",
      "VLPL [mg/dL]\n",
      "\n",
      "are not found in the system.\n"
     ]
    }
   ],
   "source": [
    "categories = {\n",
    "    'mono': MONO(),\n",
    "    'di': DI(),\n",
    "    'noref': NO(),\n",
    "    'mult_ref': MULT()\n",
    "}\n",
    "\n",
    "test_categories = {\n",
    "    'mono': [],\n",
    "    'di': [],\n",
    "    'noref': [],\n",
    "    'mult_ref': [],\n",
    "    'unassigned': []\n",
    "}\n",
    "\n",
    "for test in nc_tests:\n",
    "    c_test = test.replace(\" [mg/dL]\", \"\").replace(\" [nmol/L]\", \"\").replace(\" [-/-]\", \"\")\n",
    "    assigned = False\n",
    "    for category, category_tests in categories.items():\n",
    "        if c_test in category_tests:\n",
    "            test_categories[category].append(test)\n",
    "            assigned = True\n",
    "            break\n",
    "    if not assigned:\n",
    "        test_categories['unassigned'].append(test)\n",
    "\n",
    "print(\"Tests: \\n\")\n",
    "for test in test_categories['noref']:\n",
    "    print(f\"{test}\")\n",
    "print(\"\\nhave no reference value in system.\")\n",
    "\n",
    "print(\"\\n\\nTests: \\n\")\n",
    "for test in test_categories['unassigned']:\n",
    "    print(f\"{test}\")\n",
    "print(\"\\nare not found in the system.\")"
   ]
  },
  {
   "cell_type": "code",
   "execution_count": 91,
   "metadata": {},
   "outputs": [],
   "source": [
    "for test in test_categories[\"di\"]:\n",
    "    usename = test.replace(\" [mg/dL]\", \"\").replace(\" [nmol/L]\", \"\").replace(\" [-/-]\", \"\")\n",
    "    t_range = categories[\"di\"][usename] #a dictionary {'Optimal <': 0.6, 'High Risk >': 0.8}\n",
    "    x = t_range.keys()\n",
    "    constant = 2 * (abs(min(x) - max(x))) / 3\n",
    "    fig = t_chart(df[test], min(x), max(x), t_range[min(x)] + str(min(x)) ,t_range[max(x)] + str(max(x)), constant)\n",
    "    plot_file = f'{usename}.png'\n",
    "    IP(\"Di\", plot_file, fig)"
   ]
  },
  {
   "cell_type": "code",
   "execution_count": 92,
   "metadata": {},
   "outputs": [],
   "source": [
    "from worder import WordPreparation \n",
    "#WordPreparation.generate_word(\"Range\")"
   ]
  },
  {
   "cell_type": "code",
   "execution_count": 93,
   "metadata": {},
   "outputs": [
    {
     "name": "stdout",
     "output_type": "stream",
     "text": [
      "TPTG\n",
      "{150: 'High Risk >'}\n",
      "TPCH\n",
      "{200: 'High Risk >'}\n",
      "HDCH\n",
      "{50: 'High Risk >'}\n"
     ]
    }
   ],
   "source": [
    "for test in test_categories[\"mono\"]:\n",
    "    usename = test.replace(\" [mg/dL]\", \"\").replace(\" [nmol/L]\", \"\").replace(\" [-/-]\", \"\")\n",
    "    t_range = categories[\"mono\"][usename] #a dictionary {'Optimal <': 0.6, 'High Risk >': 0.8}\n",
    "    print(usename)\n",
    "    print(t_range)"
   ]
  },
  {
   "cell_type": "code",
   "execution_count": 94,
   "metadata": {},
   "outputs": [],
   "source": [
    "for test in test_categories[\"mono\"]:\n",
    "    usename = test.replace(\" [mg/dL]\", \"\").replace(\" [nmol/L]\", \"\").replace(\" [-/-]\", \"\")\n",
    "    t_range = categories[\"mono\"][usename]"
   ]
  }
 ],
 "metadata": {
  "kernelspec": {
   "display_name": "Python 3",
   "language": "python",
   "name": "python3"
  },
  "language_info": {
   "codemirror_mode": {
    "name": "ipython",
    "version": 3
   },
   "file_extension": ".py",
   "mimetype": "text/x-python",
   "name": "python",
   "nbconvert_exporter": "python",
   "pygments_lexer": "ipython3",
   "version": "3.10.12"
  }
 },
 "nbformat": 4,
 "nbformat_minor": 2
}
