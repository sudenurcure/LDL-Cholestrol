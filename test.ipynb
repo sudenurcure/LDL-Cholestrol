{
 "cells": [
  {
   "cell_type": "code",
   "execution_count": 1,
   "metadata": {},
   "outputs": [],
   "source": [
    "from matplotlib import pyplot as plt\n",
    "import seaborn as sns\n",
    "from test_groups import ldl_alt_fraksi̇yonları\n",
    "sns.set()\n",
    "\n",
    "def generic(patient):\n",
    "    fig, ax = plt.subplots()\n",
    "    ax.vlines(x = patient, ymin = 0, ymax= 1, label =\"patient\")\n",
    "    ax.set_xlim([abs(lwst - constant), bgst + constant])\n",
    "    ax.set_ylim([0,1])\n",
    "    ax.vlines(x = [lwst,bgst],    # Line on x = 2\n",
    "           ymin = 0, # Bottom of the plot\n",
    "           ymax = 1)\n",
    "    plt.show()\n",
    "\n",
    "lwst = 999999\n",
    "bgst = 0\n",
    "constant = 2*(lwst-bgst)/3\n",
    "key = \"ldl1-partikül sayısı\"\n",
    "\"\"\"input(\"enter testname (ldl1-partikül sayısı):\" )\"\"\"\n",
    "patient = input(\"patient value :\")\n",
    "if ldl_alt_fraksi̇yonları[key] == None:\n",
    "    pass\n",
    "testname = ldl_alt_fraksi̇yonları[key] #prob a lower dict\n",
    "keyc = len(testname)\n",
    "\n",
    "#find lwst and bgst\n",
    "for value in testname.values():\n",
    "    if value < lwst:\n",
    "        lwst = value\n",
    "    if value > bgst:\n",
    "        bgst = value\n",
    "\n",
    "#decide the look of the plot\n",
    "if lwst == bgst:\n",
    "    #send to one seperation onew < | onew >\n",
    "    pass\n",
    "elif keyc == 2:\n",
    "    # send to two seperation onew < | middle | onew >\n",
    "    generic(patient)\n",
    "elif keyc > 2:\n",
    "    # send to more than two seperation onew < and value == lwst |  | | one w > and value == bgst\n",
    "    pass\n",
    "\n",
    "\n",
    "\n"
   ]
  }
 ],
 "metadata": {
  "kernelspec": {
   "display_name": "Python 3",
   "language": "python",
   "name": "python3"
  },
  "language_info": {
   "codemirror_mode": {
    "name": "ipython",
    "version": 3
   },
   "file_extension": ".py",
   "mimetype": "text/x-python",
   "name": "python",
   "nbconvert_exporter": "python",
   "pygments_lexer": "ipython3",
   "version": "3.10.12"
  }
 },
 "nbformat": 4,
 "nbformat_minor": 2
}
