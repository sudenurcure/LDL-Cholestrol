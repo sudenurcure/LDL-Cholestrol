{
 "cells": [
  {
   "cell_type": "code",
   "execution_count": null,
   "metadata": {},
   "outputs": [],
   "source": [
    "import pandas as pd\n",
    "import test_groups as TG\n",
    "\n",
    "Tests = []"
   ]
  },
  {
   "cell_type": "code",
   "execution_count": null,
   "metadata": {},
   "outputs": [],
   "source": [
    "class PrepTests:\n",
    "    \"\"\" Save testname and make a dataframe of test results.\n",
    "    \"\"\"\n",
    "    def __init__(self,name):\n",
    "        self.name = name\n",
    "        self.dataframe = self.make_df()\n",
    "\n",
    "    def make_df(self,add = False, dta =[]):\n",
    "        if add:\n",
    "            self.dataframe = pd.concat([self.dataframe, dta], axis= 1, ignore_index= True)\n",
    "            return\n",
    "        else:\n",
    "            df = pd.DataFrame()\n",
    "            return df"
   ]
  },
  {
   "cell_type": "code",
   "execution_count": 8,
   "metadata": {},
   "outputs": [],
   "source": [
    "def DataPrep(data):\n",
    "    for index, element in data.iterrows():\n",
    "        strings = 0\n",
    "        if isinstance(element[\"Sonuç\"], str) and element[\"Sonuç\"] != \"None\":\n",
    "            strings += 1\n",
    "            tn = f\"Test {element['Test Adı']}\"\n",
    "            tablename = element['Test Adı']\n",
    "            #tablename= data.iloc[index,0]\n",
    "            tn =  PrepTests(tablename)\n",
    "            Tests.append(tn)\n",
    "        else:\n",
    "            Tests[-1].make_df(add = True, dta = data.iloc[index])\n",
    "\n",
    "    for test in Tests:\n",
    "        test.dataframe = test.dataframe.transpose()"
   ]
  },
  {
   "cell_type": "code",
   "execution_count": null,
   "metadata": {},
   "outputs": [],
   "source": [
    "data = pd.read_excel(\"Sample.xlsx\", header=0)\n",
    "#data = data.drop(columns= \"Referans Değer\")\n",
    "DataPrep(data)"
   ]
  },
  {
   "cell_type": "code",
   "execution_count": null,
   "metadata": {},
   "outputs": [],
   "source": [
    "data.head()"
   ]
  },
  {
   "cell_type": "code",
   "execution_count": null,
   "metadata": {},
   "outputs": [],
   "source": [
    "data.loc[data[\"Test Adı\"] == \"Trigliserid\", \"Referans Değer\"]"
   ]
  },
  {
   "cell_type": "code",
   "execution_count": 7,
   "metadata": {},
   "outputs": [
    {
     "data": {
      "text/plain": [
       "{'optimal düzey <': 230, 'artmış kardiovasküler hastalık riski >': 330}"
      ]
     },
     "execution_count": 7,
     "metadata": {},
     "output_type": "execute_result"
    }
   ],
   "source": [
    "import re\n",
    "   \n",
    "references = \"<230 Optimal Düzey >330 Artmış Kardiovasküler Hastalık Riski\"\n",
    "\n",
    "references= references.lower()\n",
    "\n",
    "string_parts = re.split(r'([<>]=?)', references)\n",
    "string_parts = [s.strip() for s in string_parts if s.strip()]\n",
    "givenref = {}\n",
    "r = re.compile(\"([0-9]+)([a-zA-Z]+)\")\n",
    "\n",
    "for x in range(0, len(string_parts)):\n",
    "    if x%2 == 0:\n",
    "        numeric_pattern = r'[-+]?\\d*\\.\\d+|\\d+'\n",
    "        main = string_parts[x+1]\n",
    "        numerical_values = re.findall(numeric_pattern, string_parts[x+1])\n",
    "        numerical_values = [int(num) if num.isnumeric() else float(num) for num in numerical_values]\n",
    "        main = re.sub(numeric_pattern, '', main).strip() + \" \" +string_parts[x]\n",
    "        givenref[main] = numerical_values[0]\n",
    "\n",
    "\n",
    "givenref\n",
    "#string_parts"
   ]
  },
  {
   "cell_type": "code",
   "execution_count": 7,
   "metadata": {},
   "outputs": [
    {
     "name": "stdout",
     "output_type": "stream",
     "text": [
      "This is refexists:  {'optimal düzey <': 140, 'artmış kardiovasküler hastalık riski >': 190}\n",
      "This is givenref:  {'optimal düzey <': 140, 'artmış kardiovasküler hastalık riski >': 190}\n"
     ]
    }
   ],
   "source": [
    "import re\n",
    "import test_groups as TG\n",
    "\n",
    "Group = \"ldl_alt_fraksi̇yonları\"\n",
    "test = \"ldl1-partikül sayısı\"\n",
    "\n",
    "references = \"<140 Optimal Düzey >190 Artmış Kardiovasküler Hastalık Riski\"\n",
    "\n",
    "givenref = {}\n",
    "#r = re.compile(\"([0-9]+)([a-zA-Z]+)\")\n",
    "\n",
    "references= references.lower()\n",
    "string_parts = re.split(r'([<>]=?)', references)\n",
    "string_parts = [s.strip() for s in string_parts if s.strip()]\n",
    "\n",
    "for x in range(0, len(string_parts)):\n",
    "    if x%2 == 0:\n",
    "        numeric_pattern = r'[-+]?\\d*\\.\\d+|\\d+'\n",
    "        mainstr = string_parts[x+1]\n",
    "        numerical_values = re.findall(numeric_pattern, mainstr)\n",
    "        numerical_values = [int(num) if num.isnumeric() else float(num) for num in numerical_values]\n",
    "        mainstr = re.sub(numeric_pattern, '', mainstr).strip() + \" \" +string_parts[x]\n",
    "        givenref[mainstr] = numerical_values[0]\n",
    "\n",
    "#compare givenref  with the test_group now\n",
    "refexists = TG.Lead(Group).get(test, None)\n",
    "if refexists is not None:\n",
    "    print(\"This is refexists: \", refexists)\n",
    "    print(\"This is givenref: \", givenref)\n",
    "    try:\n",
    "        refexists == givenref\n",
    "    except:\n",
    "        print(f\"Reference of {test} is different than known reference for this test.\")\n",
    "else:\n",
    "    print(f\"No reference found for test: {test}\")"
   ]
  },
  {
   "cell_type": "code",
   "execution_count": 9,
   "metadata": {},
   "outputs": [
    {
     "ename": "AttributeError",
     "evalue": "'str' object has no attribute 'items'",
     "output_type": "error",
     "traceback": [
      "\u001b[0;31m---------------------------------------------------------------------------\u001b[0m",
      "\u001b[0;31mAttributeError\u001b[0m                            Traceback (most recent call last)",
      "\u001b[1;32m/home/sudecure/LDL-Cholestrol/try.ipynb Cell 9\u001b[0m line \u001b[0;36m1\n\u001b[1;32m     <a href='vscode-notebook-cell://wsl%2Bubuntu/home/sudecure/LDL-Cholestrol/try.ipynb#X11sdnNjb2RlLXJlbW90ZQ%3D%3D?line=9'>10</a>\u001b[0m patient \u001b[39m=\u001b[39m \u001b[39m150\u001b[39m\n\u001b[1;32m     <a href='vscode-notebook-cell://wsl%2Bubuntu/home/sudecure/LDL-Cholestrol/try.ipynb#X11sdnNjb2RlLXJlbW90ZQ%3D%3D?line=11'>12</a>\u001b[0m lwst, bgst, keylwst, keybgst \u001b[39m=\u001b[39m \u001b[39mfloat\u001b[39m(\u001b[39m'\u001b[39m\u001b[39minf\u001b[39m\u001b[39m'\u001b[39m), \u001b[39m0\u001b[39m, \u001b[39m\"\u001b[39m\u001b[39m\"\u001b[39m, \u001b[39m\"\u001b[39m\u001b[39m\"\u001b[39m\n\u001b[0;32m---> <a href='vscode-notebook-cell://wsl%2Bubuntu/home/sudecure/LDL-Cholestrol/try.ipynb#X11sdnNjb2RlLXJlbW90ZQ%3D%3D?line=13'>14</a>\u001b[0m \u001b[39mfor\u001b[39;00m key, value \u001b[39min\u001b[39;00m test\u001b[39m.\u001b[39;49mitems():\n\u001b[1;32m     <a href='vscode-notebook-cell://wsl%2Bubuntu/home/sudecure/LDL-Cholestrol/try.ipynb#X11sdnNjb2RlLXJlbW90ZQ%3D%3D?line=14'>15</a>\u001b[0m     \u001b[39mif\u001b[39;00m value \u001b[39m<\u001b[39m lwst:\n\u001b[1;32m     <a href='vscode-notebook-cell://wsl%2Bubuntu/home/sudecure/LDL-Cholestrol/try.ipynb#X11sdnNjb2RlLXJlbW90ZQ%3D%3D?line=15'>16</a>\u001b[0m         lwst, keylwst \u001b[39m=\u001b[39m value, key\n",
      "\u001b[0;31mAttributeError\u001b[0m: 'str' object has no attribute 'items'"
     ]
    }
   ],
   "source": [
    "import matplotlib.pyplot as plt\n",
    "import matplotlib.colors as mcolors\n",
    "import numpy as np\n",
    "import test_groups as TG\n",
    "import seaborn as sns\n",
    "\n",
    "cmap_colors = [(0.0000001, 0.3, 0), (0.95, 0.95, 0), (5, 0, 0)]\n",
    "cmap = mcolors.LinearSegmentedColormap.from_list(\"custom_color_map\", cmap_colors, N=10000)\n",
    "\n",
    "patient = 150\n",
    "\n",
    "lwst, bgst, keylwst, keybgst = float('inf'), 0, \"\", \"\"\n",
    "    \n",
    "for key, value in test.items():\n",
    "    if value < lwst:\n",
    "        lwst, keylwst = value, key\n",
    "    if value > bgst:\n",
    "        bgst, keybgst = value, key\n",
    "\n",
    "constant = 2 * (abs(lwst - bgst)) / 3\n",
    "\n",
    "fig, ax = plt.subplots(figsize=(5, 1))\n",
    "\n",
    "bars = [(lwst, bgst - lwst), (patient, 0.1)]\n",
    "ax.broken_barh(bars, (0, 1), facecolors=\"None\")\n",
    "\n",
    "ax.set_xlim(abs(lwst - constant), bgst + constant)\n",
    "\n",
    "ax.yaxis.set_ticklabels([])\n",
    "\n",
    "x_ticks = [lwst, bgst, patient]\n",
    "x_labels = [f\"{keylwst[-1]}{lwst}\", f\"{keybgst[-1]}{bgst}\", str(patient)]\n",
    "\n",
    "ax.set_xticks(x_ticks)\n",
    "ax.set_xticklabels(x_labels, rotation=\"vertical\")\n",
    "\n",
    "ax.get_xticklabels()[0].set_horizontalalignment('right')\n",
    "ax.get_xticklabels()[1].set_horizontalalignment('left')\n",
    "\n",
    "ax.imshow(np.arange(0, lwst + bgst + 1).reshape(1, -1), cmap=cmap, aspect='auto', extent=[0, lwst + bgst, 0, 1])\n",
    "\n",
    "ax.add_patch(plt.Rectangle((0, 0), bgst + constant, 1, fill=False, edgecolor='black', linewidth=2))\n",
    "\n",
    "plt.grid(False)\n",
    "plt.show"
   ]
  }
 ],
 "metadata": {
  "kernelspec": {
   "display_name": "Python 3",
   "language": "python",
   "name": "python3"
  },
  "language_info": {
   "codemirror_mode": {
    "name": "ipython",
    "version": 3
   },
   "file_extension": ".py",
   "mimetype": "text/x-python",
   "name": "python",
   "nbconvert_exporter": "python",
   "pygments_lexer": "ipython3",
   "version": "3.10.12"
  }
 },
 "nbformat": 4,
 "nbformat_minor": 2
}
