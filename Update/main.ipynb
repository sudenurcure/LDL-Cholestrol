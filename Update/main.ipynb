{
 "cells": [
  {
   "cell_type": "code",
   "execution_count": 1,
   "metadata": {},
   "outputs": [],
   "source": [
    "import pandas as pd \n",
    "import matplotlib.pyplot as plt\n",
    "from range_charts import t_chart\n",
    "from save_plot import insert_plot as IP\n",
    "import ReferenceDictionary as dd"
   ]
  },
  {
   "cell_type": "code",
   "execution_count": 2,
   "metadata": {},
   "outputs": [],
   "source": [
    "maindata = pd.read_csv(\"lipo_result_file_1.csv\")\n",
    "maindata.drop([\"Directory\",\"name\",\"date\",\"type\"],axis = 1, inplace=True)"
   ]
  },
  {
   "cell_type": "markdown",
   "metadata": {},
   "source": [
    "### Check Data"
   ]
  },
  {
   "cell_type": "code",
   "execution_count": 3,
   "metadata": {},
   "outputs": [
    {
     "data": {
      "text/html": [
       "<div>\n",
       "<style scoped>\n",
       "    .dataframe tbody tr th:only-of-type {\n",
       "        vertical-align: middle;\n",
       "    }\n",
       "\n",
       "    .dataframe tbody tr th {\n",
       "        vertical-align: top;\n",
       "    }\n",
       "\n",
       "    .dataframe thead th {\n",
       "        text-align: right;\n",
       "    }\n",
       "</style>\n",
       "<table border=\"1\" class=\"dataframe\">\n",
       "  <thead>\n",
       "    <tr style=\"text-align: right;\">\n",
       "      <th></th>\n",
       "      <th>Sample Name</th>\n",
       "      <th>TPTG [mg/dL]</th>\n",
       "      <th>TPCH [mg/dL]</th>\n",
       "      <th>LDCH [mg/dL]</th>\n",
       "      <th>HDCH [mg/dL]</th>\n",
       "      <th>TPA1 [mg/dL]</th>\n",
       "      <th>TPA2 [mg/dL]</th>\n",
       "      <th>TPAB [mg/dL]</th>\n",
       "      <th>LDHD [-/-]</th>\n",
       "      <th>ABA1 [-/-]</th>\n",
       "      <th>...</th>\n",
       "      <th>H3PL [mg/dL]</th>\n",
       "      <th>H4PL [mg/dL]</th>\n",
       "      <th>H1A1 [mg/dL]</th>\n",
       "      <th>H2A1 [mg/dL]</th>\n",
       "      <th>H3A1 [mg/dL]</th>\n",
       "      <th>H4A1 [mg/dL]</th>\n",
       "      <th>H1A2 [mg/dL]</th>\n",
       "      <th>H2A2 [mg/dL]</th>\n",
       "      <th>H3A2 [mg/dL]</th>\n",
       "      <th>H4A2 [mg/dL]</th>\n",
       "    </tr>\n",
       "  </thead>\n",
       "  <tbody>\n",
       "    <tr>\n",
       "      <th>0</th>\n",
       "      <td>ATB_Plasma_Lipofit_03032023</td>\n",
       "      <td>79.08</td>\n",
       "      <td>241.99</td>\n",
       "      <td>161.65</td>\n",
       "      <td>67.62</td>\n",
       "      <td>163.90</td>\n",
       "      <td>39.93</td>\n",
       "      <td>97.06</td>\n",
       "      <td>2.39</td>\n",
       "      <td>0.59</td>\n",
       "      <td>...</td>\n",
       "      <td>16.47</td>\n",
       "      <td>36.29</td>\n",
       "      <td>15.67</td>\n",
       "      <td>17.38</td>\n",
       "      <td>27.55</td>\n",
       "      <td>103.43</td>\n",
       "      <td>1.48</td>\n",
       "      <td>3.23</td>\n",
       "      <td>6.95</td>\n",
       "      <td>28.66</td>\n",
       "    </tr>\n",
       "    <tr>\n",
       "      <th>1</th>\n",
       "      <td>MS_Plasma_Lipofit_03032023</td>\n",
       "      <td>277.08</td>\n",
       "      <td>214.51</td>\n",
       "      <td>109.77</td>\n",
       "      <td>53.12</td>\n",
       "      <td>151.51</td>\n",
       "      <td>37.45</td>\n",
       "      <td>103.81</td>\n",
       "      <td>2.07</td>\n",
       "      <td>0.69</td>\n",
       "      <td>...</td>\n",
       "      <td>14.31</td>\n",
       "      <td>35.86</td>\n",
       "      <td>9.11</td>\n",
       "      <td>15.08</td>\n",
       "      <td>21.59</td>\n",
       "      <td>101.89</td>\n",
       "      <td>0.98</td>\n",
       "      <td>2.45</td>\n",
       "      <td>6.29</td>\n",
       "      <td>30.10</td>\n",
       "    </tr>\n",
       "  </tbody>\n",
       "</table>\n",
       "<p>2 rows × 113 columns</p>\n",
       "</div>"
      ],
      "text/plain": [
       "                   Sample Name  TPTG [mg/dL]  TPCH [mg/dL]  LDCH [mg/dL]  \\\n",
       "0  ATB_Plasma_Lipofit_03032023         79.08        241.99        161.65   \n",
       "1   MS_Plasma_Lipofit_03032023        277.08        214.51        109.77   \n",
       "\n",
       "   HDCH [mg/dL]  TPA1 [mg/dL]  TPA2 [mg/dL]  TPAB [mg/dL]  LDHD [-/-]  \\\n",
       "0         67.62        163.90         39.93         97.06        2.39   \n",
       "1         53.12        151.51         37.45        103.81        2.07   \n",
       "\n",
       "   ABA1 [-/-]  ...  H3PL [mg/dL]  H4PL [mg/dL]  H1A1 [mg/dL]  H2A1 [mg/dL]  \\\n",
       "0        0.59  ...         16.47         36.29         15.67         17.38   \n",
       "1        0.69  ...         14.31         35.86          9.11         15.08   \n",
       "\n",
       "   H3A1 [mg/dL]  H4A1 [mg/dL]  H1A2 [mg/dL]  H2A2 [mg/dL]  H3A2 [mg/dL]  \\\n",
       "0         27.55        103.43          1.48          3.23          6.95   \n",
       "1         21.59        101.89          0.98          2.45          6.29   \n",
       "\n",
       "   H4A2 [mg/dL]  \n",
       "0         28.66  \n",
       "1         30.10  \n",
       "\n",
       "[2 rows x 113 columns]"
      ]
     },
     "execution_count": 3,
     "metadata": {},
     "output_type": "execute_result"
    }
   ],
   "source": [
    "maindata"
   ]
  },
  {
   "cell_type": "code",
   "execution_count": 4,
   "metadata": {},
   "outputs": [
    {
     "data": {
      "text/plain": [
       "Sample Name     0\n",
       "TPTG [mg/dL]    0\n",
       "TPCH [mg/dL]    0\n",
       "LDCH [mg/dL]    0\n",
       "HDCH [mg/dL]    0\n",
       "               ..\n",
       "H4A1 [mg/dL]    0\n",
       "H1A2 [mg/dL]    0\n",
       "H2A2 [mg/dL]    0\n",
       "H3A2 [mg/dL]    0\n",
       "H4A2 [mg/dL]    0\n",
       "Length: 113, dtype: int64"
      ]
     },
     "execution_count": 4,
     "metadata": {},
     "output_type": "execute_result"
    }
   ],
   "source": [
    "maindata.isna().sum()"
   ]
  },
  {
   "cell_type": "code",
   "execution_count": 5,
   "metadata": {},
   "outputs": [
    {
     "data": {
      "text/plain": [
       "(2, 113)"
      ]
     },
     "execution_count": 5,
     "metadata": {},
     "output_type": "execute_result"
    }
   ],
   "source": [
    "maindata.shape"
   ]
  },
  {
   "cell_type": "code",
   "execution_count": 6,
   "metadata": {},
   "outputs": [],
   "source": [
    "df = maindata.iloc[0]"
   ]
  },
  {
   "cell_type": "code",
   "execution_count": 7,
   "metadata": {},
   "outputs": [
    {
     "data": {
      "text/plain": [
       "Sample Name     ATB_Plasma_Lipofit_03032023\n",
       "TPTG [mg/dL]                          79.08\n",
       "TPCH [mg/dL]                         241.99\n",
       "LDCH [mg/dL]                         161.65\n",
       "HDCH [mg/dL]                          67.62\n",
       "                           ...             \n",
       "H4A1 [mg/dL]                         103.43\n",
       "H1A2 [mg/dL]                           1.48\n",
       "H2A2 [mg/dL]                           3.23\n",
       "H3A2 [mg/dL]                           6.95\n",
       "H4A2 [mg/dL]                          28.66\n",
       "Name: 0, Length: 113, dtype: object"
      ]
     },
     "execution_count": 7,
     "metadata": {},
     "output_type": "execute_result"
    }
   ],
   "source": [
    "df"
   ]
  },
  {
   "cell_type": "code",
   "execution_count": 8,
   "metadata": {},
   "outputs": [
    {
     "data": {
      "text/plain": [
       "(113,)"
      ]
     },
     "execution_count": 8,
     "metadata": {},
     "output_type": "execute_result"
    }
   ],
   "source": [
    "df.shape"
   ]
  },
  {
   "cell_type": "code",
   "execution_count": 9,
   "metadata": {},
   "outputs": [],
   "source": [
    "tests = pd.Series(df.index)"
   ]
  },
  {
   "cell_type": "code",
   "execution_count": 10,
   "metadata": {},
   "outputs": [
    {
     "data": {
      "text/plain": [
       "0       Sample Name\n",
       "1      TPTG [mg/dL]\n",
       "2      TPCH [mg/dL]\n",
       "3      LDCH [mg/dL]\n",
       "4      HDCH [mg/dL]\n",
       "           ...     \n",
       "108    H4A1 [mg/dL]\n",
       "109    H1A2 [mg/dL]\n",
       "110    H2A2 [mg/dL]\n",
       "111    H3A2 [mg/dL]\n",
       "112    H4A2 [mg/dL]\n",
       "Length: 113, dtype: object"
      ]
     },
     "execution_count": 10,
     "metadata": {},
     "output_type": "execute_result"
    }
   ],
   "source": [
    "tests"
   ]
  },
  {
   "cell_type": "markdown",
   "metadata": {},
   "source": [
    "### Regular Expressions"
   ]
  },
  {
   "cell_type": "markdown",
   "metadata": {},
   "source": [
    "#### Subfractions"
   ]
  },
  {
   "cell_type": "code",
   "execution_count": 11,
   "metadata": {},
   "outputs": [],
   "source": [
    "re_HDL_subf = r\"H\\d+\"\n",
    "re_LDL_subf = r\"L\\d+\"\n",
    "re_VLDL_subf =r\"V\\d+\""
   ]
  },
  {
   "cell_type": "code",
   "execution_count": 12,
   "metadata": {},
   "outputs": [],
   "source": [
    "HDL_subf = tests[tests.str.contains(re_HDL_subf)]\n",
    "LDL_subf = tests[tests.str.contains(re_LDL_subf)]\n",
    "VLDL_subf = tests[tests.str.contains(re_VLDL_subf)]"
   ]
  },
  {
   "cell_type": "code",
   "execution_count": 13,
   "metadata": {},
   "outputs": [],
   "source": [
    "re_HDL = r\"^HD+\"\n",
    "re_IDL = r\"^ID+\"\n",
    "re_LDL = r\"^LD+\"\n",
    "re_VLDL =r\"^VL+\""
   ]
  },
  {
   "cell_type": "code",
   "execution_count": 14,
   "metadata": {},
   "outputs": [],
   "source": [
    "m_HDL = tests[tests.str.contains(re_HDL)]\n",
    "m_IDL = tests[tests.str.contains(re_IDL)]\n",
    "m_LDL = tests[tests.str.contains(re_LDL)]\n",
    "m_VLDL = tests[tests.str.contains(re_VLDL)]"
   ]
  },
  {
   "cell_type": "code",
   "execution_count": 15,
   "metadata": {},
   "outputs": [],
   "source": [
    "chol = r\"[A-Za-z]\\dCH\"\n",
    "freechol = r\"[A-Za-z]\\dFC\"\n",
    "phos = r\"[A-Za-z]\\dPL\"\n",
    "pnum = r\"[A-Za-z]\\dPN\"\n",
    "trig = r\"[A-Za-z]\\dTG\""
   ]
  },
  {
   "cell_type": "markdown",
   "metadata": {},
   "source": [
    "#### HDL"
   ]
  },
  {
   "cell_type": "code",
   "execution_count": 16,
   "metadata": {},
   "outputs": [],
   "source": [
    "apo = r\"H1A\\d\"\n",
    "HDL_APO = HDL_subf[HDL_subf.str.contains(apo)]"
   ]
  },
  {
   "cell_type": "code",
   "execution_count": 17,
   "metadata": {},
   "outputs": [],
   "source": [
    "HDL_chol_subf = HDL_subf[HDL_subf.str.contains(chol)]\n",
    "HDL_fchol_subf = HDL_subf[HDL_subf.str.contains(freechol)]\n",
    "HDL_phos_subf = HDL_subf[HDL_subf.str.contains(phos)]\n",
    "HDL_trig_subf = HDL_subf[HDL_subf.str.contains(trig)]"
   ]
  },
  {
   "cell_type": "markdown",
   "metadata": {},
   "source": [
    "##### LDL"
   ]
  },
  {
   "cell_type": "code",
   "execution_count": 18,
   "metadata": {},
   "outputs": [
    {
     "data": {
      "text/plain": [
       "83    L1AB [mg/dL]\n",
       "84    L2AB [mg/dL]\n",
       "85    L3AB [mg/dL]\n",
       "86    L4AB [mg/dL]\n",
       "87    L5AB [mg/dL]\n",
       "88    L6AB [mg/dL]\n",
       "dtype: object"
      ]
     },
     "execution_count": 18,
     "metadata": {},
     "output_type": "execute_result"
    }
   ],
   "source": [
    "apo = r\"L\\dAB\"\n",
    "LDL_APO = LDL_subf[LDL_subf.str.contains(apo)]\n",
    "LDL_APO"
   ]
  },
  {
   "cell_type": "code",
   "execution_count": 19,
   "metadata": {},
   "outputs": [],
   "source": [
    "LDL_chol_subf = LDL_subf[LDL_subf.str.contains(chol)]\n",
    "LDL_fchol_subf = LDL_subf[LDL_subf.str.contains(freechol)]\n",
    "LDL_phos_subf = LDL_subf[LDL_subf.str.contains(phos)]\n",
    "LDL_pnum_subf = LDL_subf[LDL_subf.str.contains(pnum)]\n",
    "LDL_trig_subf = LDL_subf[LDL_subf.str.contains(trig)]"
   ]
  },
  {
   "cell_type": "markdown",
   "metadata": {},
   "source": [
    "#### VLDL"
   ]
  },
  {
   "cell_type": "code",
   "execution_count": 20,
   "metadata": {},
   "outputs": [],
   "source": [
    "VLDL_chol_subf = VLDL_subf[VLDL_subf.str.contains(chol)]\n",
    "VLDL_fchol_subf = VLDL_subf[VLDL_subf.str.contains(freechol)]\n",
    "VLDL_phos_subf = VLDL_subf[VLDL_subf.str.contains(phos)]\n",
    "VLDL_trig_subf = VLDL_subf[VLDL_subf.str.contains(trig)]"
   ]
  },
  {
   "cell_type": "markdown",
   "metadata": {},
   "source": [
    "#### Lipoproteins"
   ]
  },
  {
   "cell_type": "code",
   "execution_count": 21,
   "metadata": {},
   "outputs": [],
   "source": [
    "re_HDLP = r\"HD+\"\n",
    "re_LDLP = r\"LD+\"\n",
    "re_IDLP = r\"ID+\"\n",
    "re_VLDLP =r\"VL+\""
   ]
  },
  {
   "cell_type": "code",
   "execution_count": 22,
   "metadata": {},
   "outputs": [],
   "source": [
    "HDLP = tests[tests.str.contains(re_HDLP)]\n",
    "LDLP = tests[tests.str.contains(re_LDLP)]\n",
    "IDLP = tests[tests.str.contains(re_IDLP)]\n",
    "VLDLP = tests[tests.str.contains(re_VLDLP)]"
   ]
  },
  {
   "cell_type": "markdown",
   "metadata": {},
   "source": [
    "#### Lipoprotein Main Fractions"
   ]
  },
  {
   "cell_type": "code",
   "execution_count": 23,
   "metadata": {},
   "outputs": [],
   "source": [
    "re_mainfrac = r\"TP+\"\n",
    "LPMainF = tests[tests.str.contains(re_mainfrac)] \n",
    "LPMainF_list = LPMainF.tolist()\n",
    "LPMainF_list.append(\"ABA1 [-/-]\")\n",
    "LPMainF_list.append(\"TBPN [nmol/L]\")\n",
    "LPMainF = pd.Series(LPMainF_list)"
   ]
  },
  {
   "cell_type": "markdown",
   "metadata": {},
   "source": [
    "### LDL Subfractions"
   ]
  },
  {
   "cell_type": "markdown",
   "metadata": {},
   "source": [
    "LDL_APO\\\n",
    "LDL_chol_subf\\\n",
    "LDL_fchol_subf\\\n",
    "LDL_phos_subf\\\n",
    "LDL_pnum_subf\\\n",
    "LDL_trig_subf\\\n",
    "\\\n",
    "for low density lipoprotein fractions.\n",
    "Data is df "
   ]
  },
  {
   "cell_type": "markdown",
   "metadata": {},
   "source": [
    "##### Particle Number"
   ]
  },
  {
   "cell_type": "code",
   "execution_count": 24,
   "metadata": {},
   "outputs": [],
   "source": [
    "ldf = df[LDL_pnum_subf].astype(float)\n",
    "plt.plot(ldf.index.str.replace(\"[nmol/L]\",\"\"), ldf.values, marker='o', linestyle='-')\n",
    "\"\"\"plt.bar(ldf.index.str.replace(\"[nmol/L]\",\"\"), merge_df.highest-merge_df.lowest, color='blue', bottom=merge_df.lowest\n",
    "        ,alpha= 0.3)\"\"\"\n",
    "\n",
    "plt.title('LDL Particle Subfractions', fontsize=12)\n",
    "plt.xlabel('Fractions', fontsize=12)\n",
    "plt.ylabel('nmol/L', fontsize=12)\n",
    "\n",
    "plt.xticks(fontsize=12)\n",
    "plt.yticks(fontsize=14)\n",
    "\n",
    "plt.grid(True)\n",
    "IP(\"ldlsubparticlenum.png\",plt, \"LDL_SUBF\")"
   ]
  },
  {
   "cell_type": "markdown",
   "metadata": {},
   "source": [
    "##### Cholestrol"
   ]
  },
  {
   "cell_type": "code",
   "execution_count": 25,
   "metadata": {},
   "outputs": [],
   "source": [
    "ldf = df[LDL_chol_subf].astype(float)\n",
    "ldf_range = pd.DataFrame({\"lowest\": [8,2,3,4,5,6],\"highest\": [59,48,46,49,49,54]},\n",
    "                         index = ldf.index)\n",
    "\n",
    "merge_df = ldf_range.join(ldf).rename(columns={0:\"patient\"})\n",
    "\n",
    "merge_df.patient = merge_df.patient.astype(float)\n",
    "merge_df.lowest = merge_df.lowest.astype(float)\n",
    "merge_df.highest = merge_df.highest.astype(float)"
   ]
  },
  {
   "cell_type": "code",
   "execution_count": 26,
   "metadata": {},
   "outputs": [],
   "source": [
    "plt.plot(ldf.index.str.replace(\"[mg/dL]\",\"\"), merge_df.patient, marker='o', linestyle='-')\n",
    "plt.bar(ldf.index.str.replace(\"[mg/dL]\",\"\"), merge_df.highest-merge_df.lowest, color='blue', bottom=merge_df.lowest,alpha= 0.3)\n",
    "\n",
    "plt.title('LDL Cholestrol Subfractions', fontsize=12)\n",
    "plt.xlabel('Fractions', fontsize=12)\n",
    "plt.ylabel('mg/dL', fontsize=12)\n",
    "\n",
    "plt.xticks(fontsize=12)\n",
    "plt.yticks(fontsize=14)\n",
    "\n",
    "plt.grid(True)\n",
    "IP(\"chol.png\",plt,\"LDL_SUBF\")"
   ]
  },
  {
   "cell_type": "markdown",
   "metadata": {},
   "source": [
    "##### Free Cholestrol"
   ]
  },
  {
   "cell_type": "code",
   "execution_count": 27,
   "metadata": {},
   "outputs": [],
   "source": [
    "ldf = df[LDL_fchol_subf].astype(float)\n",
    "ldf_range = pd.DataFrame({\"lowest\": [2,1,1,1,2,2],\"highest\": [17,14,13,12,13,12]},\n",
    "                         index = ldf.index)\n",
    "\n",
    "merge_df = ldf_range.join(ldf).rename(columns={0:\"patient\"})\n",
    "\n",
    "merge_df.patient = merge_df.patient.astype(float)\n",
    "merge_df.lowest = merge_df.lowest.astype(float)\n",
    "merge_df.highest = merge_df.highest.astype(float)"
   ]
  },
  {
   "cell_type": "code",
   "execution_count": 28,
   "metadata": {},
   "outputs": [],
   "source": [
    "plt.plot(ldf.index.str.replace(\"[mg/dL]\",\"\"), merge_df.patient, marker='o', linestyle='-')\n",
    "plt.bar(ldf.index.str.replace(\"[mg/dL]\",\"\"), merge_df.highest-merge_df.lowest, color='blue', bottom=merge_df.lowest,alpha= 0.3)\n",
    "\n",
    "plt.title('LDL Free Cholestrol Subfractions', fontsize=12)\n",
    "plt.xlabel('Fractions', fontsize=12)\n",
    "plt.ylabel('mg/dL', fontsize=12)\n",
    "\n",
    "plt.xticks(fontsize=12)\n",
    "plt.yticks(fontsize=14)\n",
    "\n",
    "plt.grid(True)\n",
    "IP(\"freechol.png\",plt,\"LDL_SUBF\")"
   ]
  },
  {
   "cell_type": "markdown",
   "metadata": {},
   "source": [
    "##### Phospholipid"
   ]
  },
  {
   "cell_type": "code",
   "execution_count": 29,
   "metadata": {},
   "outputs": [],
   "source": [
    "ldf = df[LDL_phos_subf].astype(float)\n",
    "ldf_range = pd.DataFrame({\"lowest\": [6,2,2,3,4,4],\"highest\": [30,25,24,25,25,28]},\n",
    "                         index = ldf.index)\n",
    "\n",
    "merge_df = ldf_range.join(ldf).rename(columns={0:\"patient\"})\n",
    "\n",
    "merge_df.patient = merge_df.patient.astype(float)\n",
    "merge_df.lowest = merge_df.lowest.astype(float)\n",
    "merge_df.highest = merge_df.highest.astype(float)"
   ]
  },
  {
   "cell_type": "code",
   "execution_count": 30,
   "metadata": {},
   "outputs": [],
   "source": [
    "plt.plot(ldf.index.str.replace(\"[mg/dL]\",\"\"), merge_df.patient, marker='o', linestyle='-')\n",
    "plt.bar(ldf.index.str.replace(\"[mg/dL]\",\"\"), merge_df.highest-merge_df.lowest, color='blue', bottom=merge_df.lowest,alpha= 0.3)\n",
    "\n",
    "plt.title('LDL Phospholipid Subfractions', fontsize = 12)\n",
    "plt.xlabel('Fractions', fontsize = 12)\n",
    "plt.ylabel('mg/dL', fontsize = 12)\n",
    "\n",
    "plt.xticks(fontsize=12)\n",
    "plt.yticks(fontsize=14)\n",
    "\n",
    "plt.grid(True)\n",
    "IP(\"phospholipid.png\",plt,\"LDL_SUBF\")"
   ]
  },
  {
   "cell_type": "markdown",
   "metadata": {},
   "source": [
    "##### Triglycerides"
   ]
  },
  {
   "cell_type": "code",
   "execution_count": 31,
   "metadata": {},
   "outputs": [],
   "source": [
    "ldf = df[LDL_trig_subf].astype(float)\n",
    "ldf_range = pd.DataFrame({\"lowest\": [3,1,1,1,1,1],\"highest\": [14,6,6,8,9,13]},\n",
    "                         index = ldf.index)\n",
    "\n",
    "merge_df = ldf_range.join(ldf).rename(columns={0:\"patient\"})\n",
    "\n",
    "merge_df.patient = merge_df.patient.astype(float)\n",
    "merge_df.lowest = merge_df.lowest.astype(float)\n",
    "merge_df.highest = merge_df.highest.astype(float)"
   ]
  },
  {
   "cell_type": "code",
   "execution_count": 32,
   "metadata": {},
   "outputs": [],
   "source": [
    "plt.plot(ldf.index.str.replace(\"[mg/dL]\",\"\"), merge_df.patient, marker='o', linestyle='-')\n",
    "plt.bar(ldf.index.str.replace(\"[mg/dL]\",\"\"), merge_df.highest-merge_df.lowest, color='blue', bottom=merge_df.lowest, alpha= 0.3)\n",
    "\n",
    "plt.title('LDL Triglyceride Subfractions', fontsize=12)\n",
    "plt.xlabel('Fractions', fontsize=12)\n",
    "plt.ylabel('mg/dL', fontsize=12)\n",
    "\n",
    "plt.xticks(fontsize=12)\n",
    "plt.yticks(fontsize=14)\n",
    "\n",
    "plt.grid(True)\n",
    "IP(\"triglycerides.png\",plt,\"LDL_SUBF\")"
   ]
  },
  {
   "cell_type": "markdown",
   "metadata": {},
   "source": [
    "### HDL Subfractions"
   ]
  },
  {
   "cell_type": "markdown",
   "metadata": {},
   "source": [
    "HDL_APO\\\n",
    "HDL_chol_subf\\\n",
    "HDL_fchol_subf\\\n",
    "HDL_phos_subf\\\n",
    "HDL_trig_subf\\\n",
    "\\\n",
    "for high density lipoprotein fractions.\n",
    "Data is df "
   ]
  },
  {
   "cell_type": "markdown",
   "metadata": {},
   "source": [
    "##### Cholestrol"
   ]
  },
  {
   "cell_type": "code",
   "execution_count": 33,
   "metadata": {},
   "outputs": [],
   "source": [
    "hdf = df[HDL_chol_subf].astype(float)\n",
    "hdf_range = pd.DataFrame({\"lowest\": [6,4,7,11],\"highest\": [46,16,19,30]},\n",
    "                         index = hdf.index)\n",
    "\n",
    "merge_df = hdf_range.join(hdf).rename(columns={0:\"patient\"})\n",
    "\n",
    "merge_df.patient = merge_df.patient.astype(float)\n",
    "merge_df.lowest = merge_df.lowest.astype(float)\n",
    "merge_df.highest = merge_df.highest.astype(float)"
   ]
  },
  {
   "cell_type": "code",
   "execution_count": 34,
   "metadata": {},
   "outputs": [],
   "source": [
    "hdf = df[HDL_chol_subf]\n",
    "\n",
    "plt.plot(hdf.index.str.replace(\"[mg/dL]\",\"\"), merge_df.patient, marker='o', linestyle='-')\n",
    "plt.bar(hdf.index.str.replace(\"[mg/dL]\",\"\"), merge_df.highest-merge_df.lowest, color='blue', bottom=merge_df.lowest, alpha= 0.3)\n",
    "\n",
    "plt.title('HDL Cholestrol Subfractions', fontsize = 12)\n",
    "plt.xlabel('Fractions', fontsize = 12)\n",
    "plt.ylabel('mg/dL', fontsize = 12)\n",
    "\n",
    "plt.xticks(fontsize=12)\n",
    "plt.yticks(fontsize=14)\n",
    "\n",
    "plt.grid(True)\n",
    "IP(\"chol.png\",plt,\"HDL_SUBF\")"
   ]
  },
  {
   "cell_type": "markdown",
   "metadata": {},
   "source": [
    "##### Free Cholestrol"
   ]
  },
  {
   "cell_type": "code",
   "execution_count": 35,
   "metadata": {},
   "outputs": [],
   "source": [
    "hdf = df[HDL_fchol_subf].astype(float)\n",
    "hdf_range = pd.DataFrame({\"lowest\": [1,1,1,2],\"highest\": [12,5,5,9]},\n",
    "                         index = hdf.index)\n",
    "\n",
    "merge_df = hdf_range.join(hdf).rename(columns={0:\"patient\"})\n",
    "\n",
    "merge_df.patient = merge_df.patient.astype(float)\n",
    "merge_df.lowest = merge_df.lowest.astype(float)\n",
    "merge_df.highest = merge_df.highest.astype(float)"
   ]
  },
  {
   "cell_type": "code",
   "execution_count": 36,
   "metadata": {},
   "outputs": [],
   "source": [
    "plt.plot(hdf.index.str.replace(\"[mg/dL]\",\"\"), merge_df.patient, marker='o', linestyle='-')\n",
    "plt.bar(hdf.index.str.replace(\"[mg/dL]\",\"\"), merge_df.highest-merge_df.lowest, color='blue', bottom=merge_df.lowest, alpha= 0.3)\n",
    "\n",
    "plt.title('HDL Free Cholestrol Subfractions', fontsize=12)\n",
    "plt.xlabel('Fractions', fontsize=12)\n",
    "plt.ylabel('mg/dL', fontsize=12)\n",
    "\n",
    "plt.xticks(fontsize=12)\n",
    "plt.yticks(fontsize=14)\n",
    "\n",
    "plt.grid(True)\n",
    "IP(\"freechol.png\",plt,\"HDL_SUBF\")"
   ]
  },
  {
   "cell_type": "markdown",
   "metadata": {},
   "source": [
    "##### Phospholipid"
   ]
  },
  {
   "cell_type": "code",
   "execution_count": 37,
   "metadata": {},
   "outputs": [],
   "source": [
    "hdf = df[HDL_phos_subf].astype(float)\n",
    "hdf_range = pd.DataFrame({\"lowest\": [8,7,12,20],\"highest\": [57,27,32,44]},\n",
    "                         index = hdf.index)\n",
    "\n",
    "merge_df = hdf_range.join(hdf).rename(columns={0:\"patient\"})\n",
    "\n",
    "merge_df.patient = merge_df.patient.astype(float)\n",
    "merge_df.lowest = merge_df.lowest.astype(float)\n",
    "merge_df.highest = merge_df.highest.astype(float)"
   ]
  },
  {
   "cell_type": "code",
   "execution_count": 38,
   "metadata": {},
   "outputs": [],
   "source": [
    "plt.plot(hdf.index.str.replace(\"[mg/dL]\",\"\"), merge_df.patient, marker='o', linestyle='-')\n",
    "plt.bar(hdf.index.str.replace(\"[mg/dL]\",\"\"), merge_df.highest-merge_df.lowest, color='blue', bottom=merge_df.lowest, alpha= 0.3)\n",
    "\n",
    "plt.title('HDL Phospholipid Subfractions', fontsize=12)\n",
    "plt.xlabel('Fractions', fontsize=12)\n",
    "plt.ylabel('mg/dL', fontsize=12)\n",
    "\n",
    "plt.xticks(fontsize=12)\n",
    "plt.yticks(fontsize=14)\n",
    "\n",
    "plt.grid(True)\n",
    "IP(\"phospholipid.png\",plt,\"HDL_SUBF\")"
   ]
  },
  {
   "cell_type": "markdown",
   "metadata": {},
   "source": [
    "##### Triglycerides"
   ]
  },
  {
   "cell_type": "code",
   "execution_count": 39,
   "metadata": {},
   "outputs": [],
   "source": [
    "hdf = df[HDL_trig_subf].astype(float)\n",
    "hdf_range = pd.DataFrame({\"lowest\": [1,1,1,2],\"highest\": [12,5,5,8]},\n",
    "                         index = hdf.index)\n",
    "\n",
    "merge_df = hdf_range.join(hdf).rename(columns={0:\"patient\"})\n",
    "\n",
    "merge_df.patient = merge_df.patient.astype(float)\n",
    "merge_df.lowest = merge_df.lowest.astype(float)\n",
    "merge_df.highest = merge_df.highest.astype(float)"
   ]
  },
  {
   "cell_type": "code",
   "execution_count": 40,
   "metadata": {},
   "outputs": [],
   "source": [
    "plt.plot(hdf.index.str.replace(\"[mg/dL]\",\"\"), merge_df.patient, marker='o', linestyle='-')\n",
    "plt.bar(hdf.index.str.replace(\"[mg/dL]\",\"\"), merge_df.highest-merge_df.lowest, color='blue', bottom=merge_df.lowest, alpha= 0.3)\n",
    "\n",
    "plt.title('HDL Triglyceride Subfractions', fontsize=12)\n",
    "plt.xlabel('Fractions', fontsize=12)\n",
    "plt.ylabel('mg/dL', fontsize=12)\n",
    "\n",
    "plt.xticks(fontsize=12)\n",
    "plt.yticks(fontsize=14)\n",
    "\n",
    "plt.grid(True)\n",
    "IP(\"triglycerides.png\",plt,\"HDL_SUBF\")"
   ]
  },
  {
   "cell_type": "markdown",
   "metadata": {},
   "source": [
    "### VLDL Subfractions"
   ]
  },
  {
   "cell_type": "markdown",
   "metadata": {},
   "source": [
    "VLDL_chol_subf\\\n",
    "VLDL_fchol_subf\\\n",
    "VLDL_phos_subf\\\n",
    "VLDL_trig_subf\\\n",
    "\\\n",
    "for very low density lipoprotein fractions.\n",
    "Data is df "
   ]
  },
  {
   "cell_type": "markdown",
   "metadata": {},
   "source": [
    "##### Cholestrol"
   ]
  },
  {
   "cell_type": "code",
   "execution_count": 41,
   "metadata": {},
   "outputs": [],
   "source": [
    "vdf = df[VLDL_chol_subf].astype(float)\n",
    "vdf_range = pd.DataFrame({\"lowest\": [1,0,0,1,0],\"highest\": [35,15,16,15,4]},\n",
    "                         index = vdf.index)\n",
    "\n",
    "merge_df = vdf_range.join(vdf).rename(columns={0:\"patient\"})\n",
    "\n",
    "merge_df.patient = merge_df.patient.astype(float)\n",
    "merge_df.lowest = merge_df.lowest.astype(float)\n",
    "merge_df.highest = merge_df.highest.astype(float)"
   ]
  },
  {
   "cell_type": "code",
   "execution_count": 42,
   "metadata": {},
   "outputs": [],
   "source": [
    "plt.plot(vdf.index.str.replace(\"[mg/dL]\",\"\"), merge_df.patient, marker='o', linestyle='-')\n",
    "plt.bar(vdf.index.str.replace(\"[mg/dL]\",\"\"), merge_df.highest-merge_df.lowest, color='blue', bottom=merge_df.lowest, alpha= 0.3)\n",
    "\n",
    "plt.title('VLDL Cholestrol Subfractions', fontsize=12)\n",
    "plt.xlabel('Fractions', fontsize=12)\n",
    "plt.ylabel('mg/dL', fontsize=12)\n",
    "\n",
    "plt.xticks(fontsize=12)\n",
    "plt.yticks(fontsize=14)\n",
    "\n",
    "plt.grid(True)\n",
    "IP(\"chol.png\",plt,\"VLDL_SUBF\")"
   ]
  },
  {
   "cell_type": "markdown",
   "metadata": {},
   "source": [
    "##### Free Cholestrol"
   ]
  },
  {
   "cell_type": "code",
   "execution_count": 43,
   "metadata": {},
   "outputs": [],
   "source": [
    "vdf = df[VLDL_fchol_subf].astype(float)\n",
    "vdf_range = pd.DataFrame({\"lowest\": [0,0,0,0,0],\"highest\": [13,7,8,7,2]},\n",
    "                         index = vdf.index)\n",
    "\n",
    "merge_df = vdf_range.join(vdf).rename(columns={0:\"patient\"})\n",
    "\n",
    "merge_df.patient = merge_df.patient.astype(float)\n",
    "merge_df.lowest = merge_df.lowest.astype(float)\n",
    "merge_df.highest = merge_df.highest.astype(float)"
   ]
  },
  {
   "cell_type": "code",
   "execution_count": 44,
   "metadata": {},
   "outputs": [],
   "source": [
    "plt.plot(vdf.index.str.replace(\"[mg/dL]\",\"\"), merge_df.patient, marker='o', linestyle='-')\n",
    "plt.bar(vdf.index.str.replace(\"[mg/dL]\",\"\"), merge_df.highest-merge_df.lowest, color='blue', bottom=merge_df.lowest, alpha= 0.3)\n",
    "\n",
    "plt.title('VLDL Free Cholestrol Subfractions', fontsize=12)\n",
    "plt.xlabel('Fractions', fontsize=12)\n",
    "plt.ylabel('mg/dL', fontsize=12)\n",
    "\n",
    "plt.xticks(fontsize=12)\n",
    "plt.yticks(fontsize=14)\n",
    "\n",
    "plt.grid(True)\n",
    "IP(\"freechol.png\",plt,\"VLDL_SUBF\")"
   ]
  },
  {
   "cell_type": "markdown",
   "metadata": {},
   "source": [
    "##### Phospholipid"
   ]
  },
  {
   "cell_type": "code",
   "execution_count": 45,
   "metadata": {},
   "outputs": [],
   "source": [
    "vdf = df[VLDL_phos_subf].astype(float)\n",
    "vdf_range = pd.DataFrame({\"lowest\": [1,1,1,2,0],\"highest\": [32,15,14,13,5]},\n",
    "                         index = vdf.index)\n",
    "\n",
    "merge_df = vdf_range.join(vdf).rename(columns={0:\"patient\"})\n",
    "\n",
    "merge_df.patient = merge_df.patient.astype(float)\n",
    "merge_df.lowest = merge_df.lowest.astype(float)\n",
    "merge_df.highest = merge_df.highest.astype(float)"
   ]
  },
  {
   "cell_type": "code",
   "execution_count": 46,
   "metadata": {},
   "outputs": [],
   "source": [
    "plt.plot(vdf.index.str.replace(\"[mg/dL]\",\"\"), merge_df.patient, marker='o', linestyle='-')\n",
    "plt.bar(vdf.index.str.replace(\"[mg/dL]\",\"\"), merge_df.highest-merge_df.lowest, color='blue', bottom=merge_df.lowest, alpha= 0.3)\n",
    "\n",
    "plt.title('VLDL Phospholipid Subfractions', fontsize=12)\n",
    "plt.xlabel('Fractions', fontsize=12)\n",
    "plt.ylabel('mg/dL', fontsize=12)\n",
    "\n",
    "plt.xticks(fontsize=12)\n",
    "plt.yticks(fontsize=14)\n",
    "\n",
    "plt.grid(True)\n",
    "IP(\"phospholipid.png\",plt,\"VLDL_SUBF\")"
   ]
  },
  {
   "cell_type": "markdown",
   "metadata": {},
   "source": [
    "##### Triglycerides"
   ]
  },
  {
   "cell_type": "code",
   "execution_count": 47,
   "metadata": {},
   "outputs": [],
   "source": [
    "vdf = df[VLDL_trig_subf].astype(float)\n",
    "vdf_range = pd.DataFrame({\"lowest\": [6,3,2,3,1],\"highest\": [212,67,49,28,7]},\n",
    "                         index = vdf.index)\n",
    "\n",
    "merge_df = vdf_range.join(vdf).rename(columns={0:\"patient\"})\n",
    "\n",
    "merge_df.patient = merge_df.patient.astype(float)\n",
    "merge_df.lowest = merge_df.lowest.astype(float)\n",
    "merge_df.highest = merge_df.highest.astype(float)"
   ]
  },
  {
   "cell_type": "code",
   "execution_count": 48,
   "metadata": {},
   "outputs": [],
   "source": [
    "plt.plot(vdf.index.str.replace(\"[mg/dL]\",\"\"), merge_df.patient, marker='o', linestyle='-')\n",
    "plt.bar(vdf.index.str.replace(\"[mg/dL]\",\"\"), merge_df.highest-merge_df.lowest, color='blue', bottom=merge_df.lowest, alpha= 0.3)\n",
    "\n",
    "plt.title('VLDL Triglyceride Subfractions', fontsize=12)\n",
    "plt.xlabel('Fractions', fontsize=12)\n",
    "plt.ylabel('mg/dL', fontsize=12)\n",
    "\n",
    "plt.xticks(fontsize=12)\n",
    "plt.yticks(fontsize=14)\n",
    "\n",
    "plt.grid(True)\n",
    "IP(\"triglycerides.png\",plt,\"VLDL_SUBF\")"
   ]
  },
  {
   "cell_type": "markdown",
   "metadata": {},
   "source": [
    "### Chart Tests"
   ]
  },
  {
   "cell_type": "code",
   "execution_count": 49,
   "metadata": {},
   "outputs": [],
   "source": [
    "dfdict= df.to_dict()"
   ]
  },
  {
   "cell_type": "markdown",
   "metadata": {},
   "source": [
    "lp_df = df[LPMainF]\n",
    "hdl_df = df[m_HDL]\n",
    "idl_df = df[m_IDL]\n",
    "ldl_df = df[m_LDL]\n",
    "vldl_df = df[m_VLDL]"
   ]
  },
  {
   "cell_type": "markdown",
   "metadata": {},
   "source": [
    "Tests to be charted:"
   ]
  },
  {
   "cell_type": "markdown",
   "metadata": {},
   "source": [
    "nc_tests_dict = lp_df.to_dict() | hdl_df.to_dict() | idl_df.to_dict() | ldl_df.to_dict() | vldl_df.to_dict()"
   ]
  },
  {
   "cell_type": "code",
   "execution_count": 50,
   "metadata": {},
   "outputs": [],
   "source": [
    "def create_colored_box_image(usename, value, sick, unit = None):\n",
    "    if sick == True:\n",
    "        box_color = 'orangered'\n",
    "    elif sick == False:\n",
    "        box_color = 'lawngreen'\n",
    "    elif sick == \"noref\":\n",
    "        box_color = 'white'\n",
    "    else:\n",
    "        box_color = 'orange'\n",
    "\n",
    "    usename = usename + \"_box\"\n",
    "\n",
    "    fig, ax = plt.subplots(figsize=(2.85, 0.65))\n",
    "\n",
    "    text = str(value)\n",
    "    try:\n",
    "        unit = unit.replace(\"[\",\"\").replace(\"]\",\"\")\n",
    "    except:\n",
    "        ax.text(0.5, 0.5, text, color='black', fontsize=20, va='center', ha='center')\n",
    "    else:\n",
    "        ax.text(0.5, 0.5, text+\" \"+unit, color='black', fontsize=20, va='center', ha='center')\n",
    "    \n",
    "    rect = plt.Rectangle((0, 0), 2.75, 1, color=box_color)\n",
    "    ax.add_patch(rect)\n",
    "    ax.set_xticks([])\n",
    "    ax.set_yticks([])\n",
    "    ax.set_xticklabels([])\n",
    "    ax.set_yticklabels([])\n",
    "\n",
    "    IP(usename,plt)"
   ]
  },
  {
   "cell_type": "code",
   "execution_count": 51,
   "metadata": {},
   "outputs": [],
   "source": [
    "output = open(\"problem_output.txt\",\"w\")\n",
    "\n",
    "for test , pval in dfdict.items():\n",
    "    #get name and unit of the test seperately\n",
    "    usename = test.replace(\" [mg/dL]\", \"\").replace(\" [nmol/L]\", \"\").replace(\" [-/-]\", \"\")\n",
    "    if \"[mg/dL]\" in test:\n",
    "        unit =  \"[mg/dL]\"\n",
    "    elif \"[nmol/L]\" in test:\n",
    "        unit = \"[nmol/L]\"\n",
    "    else:\n",
    "        unit = None\n",
    "\n",
    "    #check the test's existence\n",
    "    try:\n",
    "        attribute = getattr(dd.TESTS(),usename)\n",
    "    except:\n",
    "        output.write(f\"{test} is not in tests dictionary.\\n\")\n",
    "    else:\n",
    "        try:\n",
    "                attribute[\"Optimal\"]\n",
    "        except:\n",
    "            try:\n",
    "                attribute[\"OptimalnCD\"] #Do these exist?\n",
    "                attribute[\"OptimalCD\"]\n",
    "            except:\n",
    "                print(\"Problem\")\n",
    "                pass\n",
    "            else: # more than two reference values\n",
    "                while True:\n",
    "                    past = input(\"History of any Cardiovascular Events? y/n \")\n",
    "                    if past == \"n\":\n",
    "                        optval = float(attribute[\"OptimalnCD\"][2:].strip())\n",
    "                        riskval = float(attribute[\"Risk\"][2:].strip())\n",
    "                        constant = 2 * (abs(optval - riskval)) / 3\n",
    "                        \n",
    "                        fig = t_chart(df[test], optval, riskval, attribute[\"OptimalnCD\"] ,attribute[\"Risk\"], constant)\n",
    "                        plot_file = f'{usename}.png'\n",
    "                        IP(plot_file, fig)\n",
    "                        \n",
    "                        create_colored_box_image(usename, df[test], \"noref\", unit)\n",
    "                        break\n",
    "                    elif past == \"y\":\n",
    "                        optval = float(attribute[\"OptimalCD\"][2:].strip())\n",
    "                        riskval = float(attribute[\"Risk\"][2:].strip())\n",
    "                        constant = 2 * (abs(optval - riskval)) / 3\n",
    "\n",
    "                        fig = t_chart(df[test], optval, riskval, attribute[\"OptimalCD\"] ,attribute[\"Risk\"], constant)\n",
    "                        plot_file = f'{usename}.png'\n",
    "                        IP(plot_file, fig)\n",
    "\n",
    "                        create_colored_box_image(usename, df[test], \"noref\", unit)\n",
    "                        break\n",
    "                    else:\n",
    "                        print(\"Wrong input.\")\n",
    "        else:\n",
    "            if attribute[\"Optimal\"] is None and attribute[\"Risk\"] is None: #check for no reference\n",
    "                create_colored_box_image(usename, pval, \"noref\", unit)\n",
    "            elif attribute[\"Optimal\"][2:].strip() == attribute[\"Risk\"][2:].strip(): #check for one reference value\n",
    "                condition = f\"{pval} {attribute}\"\n",
    "                if pval == attribute[\"Optimal\"][2:].strip():\n",
    "                    create_colored_box_image(usename, pval, \"not boolean\", unit)\n",
    "                elif eval(f\"{pval} {attribute['Optimal']}\"): # pval > or < Optimal w\n",
    "                    create_colored_box_image(usename, pval, False, unit)\n",
    "                else:\n",
    "                    create_colored_box_image(usename, pval, True, unit)\n",
    "                    \n",
    "            else: #two reference value\n",
    "                optval = float(attribute[\"Optimal\"][2:].strip())\n",
    "                riskval = float(attribute[\"Risk\"][2:].strip())\n",
    "                constant = 2 * (abs(optval - riskval)) / 3\n",
    "\n",
    "                fig = t_chart(df[test], optval, riskval, attribute[\"Optimal\"] ,attribute[\"Risk\"], constant) # or \"Optimal\" , \"Risk\" as line names\n",
    "                plot_file = f'{usename}.png'\n",
    "                IP(plot_file, fig)\n",
    "\n",
    "                create_colored_box_image(usename, df[test], \"noref\", unit)\n",
    "output.close()"
   ]
  },
  {
   "cell_type": "markdown",
   "metadata": {},
   "source": [
    "#### cLFLC & cHFHC"
   ]
  },
  {
   "cell_type": "markdown",
   "metadata": {},
   "source": [
    "##### LFLC"
   ]
  },
  {
   "cell_type": "code",
   "execution_count": 52,
   "metadata": {},
   "outputs": [],
   "source": [
    "db = dd.TESTS.LFLC\n",
    "cLFLC = round(df[\"LDFC [mg/dL]\"]/df[\"LDCH [mg/dL]\"],2)"
   ]
  },
  {
   "cell_type": "code",
   "execution_count": 53,
   "metadata": {},
   "outputs": [],
   "source": [
    "optval = float(db[\"Optimal\"][2:].strip())\n",
    "riskval = float(db[\"Risk\"][2:].strip())\n",
    "constant = 2 * (abs(optval - riskval)) / 3\n",
    "\n",
    "fig = t_chart(cLFLC, optval, riskval, attribute[\"Optimal\"] ,attribute[\"Risk\"], constant)\n",
    "plot_file = 'LFLC.png'\n",
    "IP(plot_file, fig)\n",
    "\n",
    "create_colored_box_image(plot_file.replace(\".png\",\"\"), cLFLC, \"noref\", unit)"
   ]
  },
  {
   "cell_type": "markdown",
   "metadata": {},
   "source": [
    "##### HFHC"
   ]
  },
  {
   "cell_type": "code",
   "execution_count": 54,
   "metadata": {},
   "outputs": [],
   "source": [
    "db = dd.TESTS.HFHC\n",
    "cHFHC = round(df[\"HDFC [mg/dL]\"]/df[\"HDCH [mg/dL]\"],2)"
   ]
  },
  {
   "cell_type": "code",
   "execution_count": 55,
   "metadata": {},
   "outputs": [],
   "source": [
    "if eval(f\"{cHFHC} {db['Optimal']}\"):\n",
    "    create_colored_box_image(\"HFHC\", cHFHC, False, unit)\n",
    "else:\n",
    "    create_colored_box_image(\"HFHC\", cHFHC, True, unit)\n"
   ]
  },
  {
   "cell_type": "markdown",
   "metadata": {},
   "source": [
    "#### Subfraction Group Charts"
   ]
  },
  {
   "cell_type": "markdown",
   "metadata": {},
   "source": [
    "Triglycerides"
   ]
  },
  {
   "cell_type": "code",
   "execution_count": 56,
   "metadata": {},
   "outputs": [],
   "source": [
    "lipoprot_tg = [\"HDTG [mg/dL]\",\"IDTG [mg/dL]\",\"LDTG [mg/dL]\",\"VLTG [mg/dL]\"]\n",
    "lps = df[lipoprot_tg].astype(float)\n",
    "\n",
    "lps_range = pd.DataFrame({\"lowest\": [7,5,12,21],\"highest\": [29,100,45,336]},\n",
    "                         index = lps.index)\n",
    "\n",
    "merge_df = lps_range.join(lps).rename(columns={0:\"patient\"})\n",
    "\n",
    "merge_df.patient = merge_df.patient.astype(float)\n",
    "merge_df.lowest = merge_df.lowest.astype(float)\n",
    "merge_df.highest = merge_df.highest.astype(float)"
   ]
  },
  {
   "cell_type": "code",
   "execution_count": 57,
   "metadata": {},
   "outputs": [],
   "source": [
    "plt.plot(lps.index.str.replace(\"[mg/dL]\",\"\"), merge_df.patient, marker='o', linestyle='-')\n",
    "plt.bar(lps.index.str.replace(\"[mg/dL]\",\"\"), merge_df.highest-merge_df.lowest, color='blue', bottom=merge_df.lowest, alpha= 0.3)\n",
    "\n",
    "plt.title(\"Lipoprotein Triglycerides\")\n",
    "plt.xlabel('Proteins')\n",
    "plt.ylabel('mg/dL')\n",
    "\n",
    "plt.xticks(fontsize=8)\n",
    "plt.yticks(fontsize=8)\n",
    "\n",
    "plt.grid(True)\n",
    "IP(\"TG_lipoproteins\",plt)"
   ]
  },
  {
   "cell_type": "markdown",
   "metadata": {},
   "source": [
    "Cholestrol"
   ]
  },
  {
   "cell_type": "code",
   "execution_count": 58,
   "metadata": {},
   "outputs": [],
   "source": [
    "lipoprot_ch = [\"HDCH [mg/dL]\",\"IDCH [mg/dL]\",\"LDCH [mg/dL]\",\"VLCH [mg/dL]\"]\n",
    "lps = df[lipoprot_ch].astype(float)\n",
    "\n",
    "lps_range = pd.DataFrame({\"lowest\": [35,4,55,5],\"highest\": [96,50,227,77]},\n",
    "                         index = lps.index)\n",
    "\n",
    "merge_df = lps_range.join(lps).rename(columns={0:\"patient\"})\n",
    "\n",
    "merge_df.patient = merge_df.patient.astype(float)\n",
    "merge_df.lowest = merge_df.lowest.astype(float)\n",
    "merge_df.highest = merge_df.highest.astype(float)"
   ]
  },
  {
   "cell_type": "code",
   "execution_count": 59,
   "metadata": {},
   "outputs": [],
   "source": [
    "plt.plot(lps.index.str.replace(\"[mg/dL]\",\"\"), merge_df.patient, marker='o', linestyle='-')\n",
    "plt.bar(lps.index.str.replace(\"[mg/dL]\",\"\"), merge_df.highest-merge_df.lowest, color='blue', bottom=merge_df.lowest, alpha= 0.3)\n",
    "\n",
    "plt.title(\"Lipoprotein Cholestrol\")\n",
    "plt.xlabel('Proteins')\n",
    "plt.ylabel('mg/dL')\n",
    "\n",
    "plt.xticks(fontsize=8)\n",
    "plt.yticks(fontsize=8)\n",
    "\n",
    "plt.grid(True)\n",
    "IP(\"CH_lipoproteins\",plt)"
   ]
  },
  {
   "cell_type": "markdown",
   "metadata": {},
   "source": [
    "Free Cholestrol"
   ]
  },
  {
   "cell_type": "code",
   "execution_count": 60,
   "metadata": {},
   "outputs": [],
   "source": [
    "lipoprot_fc = [\"HDFC [mg/dL]\",\"IDFC [mg/dL]\",\"LDFC [mg/dL]\",\"VLFC [mg/dL]\"]\n",
    "lps = df[lipoprot_fc].astype(float)\n",
    "\n",
    "lps_range = pd.DataFrame({\"lowest\": [7,1,17,3],\"highest\": [27,14,63,33]},\n",
    "                         index = lps.index)\n",
    "\n",
    "merge_df = lps_range.join(lps).rename(columns={0:\"patient\"})\n",
    "\n",
    "merge_df.patient = merge_df.patient.astype(float)\n",
    "merge_df.lowest = merge_df.lowest.astype(float)\n",
    "merge_df.highest = merge_df.highest.astype(float)"
   ]
  },
  {
   "cell_type": "code",
   "execution_count": 61,
   "metadata": {},
   "outputs": [],
   "source": [
    "plt.plot(lps.index.str.replace(\"[mg/dL]\",\"\"), merge_df.patient, marker='o', linestyle='-')\n",
    "plt.bar(lps.index.str.replace(\"[mg/dL]\",\"\"), merge_df.highest-merge_df.lowest, color='blue', bottom=merge_df.lowest, alpha= 0.3)\n",
    "\n",
    "plt.title(\"Lipoprotein Free Cholestrol\")\n",
    "plt.xlabel('Proteins')\n",
    "plt.ylabel('mg/dL')\n",
    "\n",
    "plt.xticks(fontsize=8)\n",
    "plt.yticks(fontsize=8)\n",
    "\n",
    "plt.grid(True)\n",
    "IP(\"FC_lipoproteins\",plt)"
   ]
  },
  {
   "cell_type": "markdown",
   "metadata": {},
   "source": [
    "Phospholipid"
   ]
  },
  {
   "cell_type": "code",
   "execution_count": 62,
   "metadata": {},
   "outputs": [],
   "source": [
    "lipoprot_pl = [\"HDPL [mg/dL]\",\"IDPL [mg/dL]\",\"LDPL [mg/dL]\",\"VLPL [mg/dL]\"]\n",
    "lps = df[lipoprot_pl].astype(float)\n",
    "\n",
    "lps_range = pd.DataFrame({\"lowest\": [57,3,37,6],\"highest\": [136,33,121,68]},\n",
    "                         index = lps.index)\n",
    "\n",
    "merge_df = lps_range.join(lps).rename(columns={0:\"patient\"})\n",
    "\n",
    "merge_df.patient = merge_df.patient.astype(float)\n",
    "merge_df.lowest = merge_df.lowest.astype(float)\n",
    "merge_df.highest = merge_df.highest.astype(float)"
   ]
  },
  {
   "cell_type": "code",
   "execution_count": 63,
   "metadata": {},
   "outputs": [],
   "source": [
    "plt.plot(lps.index.str.replace(\"[mg/dL]\",\"\"), merge_df.patient, marker='o', linestyle='-')\n",
    "plt.bar(lps.index.str.replace(\"[mg/dL]\",\"\"), merge_df.highest-merge_df.lowest, color='blue', bottom=merge_df.lowest, alpha= 0.3)\n",
    "\n",
    "plt.title(\"Lipoprotein Phospholipids\")\n",
    "plt.xlabel('Proteins')\n",
    "plt.ylabel('mg/dL')\n",
    "\n",
    "plt.xticks(fontsize=8)\n",
    "plt.yticks(fontsize=8)\n",
    "\n",
    "plt.grid(True)\n",
    "IP(\"PL_lipoproteins\",plt)"
   ]
  },
  {
   "cell_type": "markdown",
   "metadata": {},
   "source": [
    "# Time"
   ]
  },
  {
   "cell_type": "code",
   "execution_count": 65,
   "metadata": {},
   "outputs": [
    {
     "data": {
      "text/plain": [
       "1623.31"
      ]
     },
     "execution_count": 65,
     "metadata": {},
     "output_type": "execute_result"
    }
   ],
   "source": [
    "df[\"LDPN [nmol/L]\"]"
   ]
  },
  {
   "cell_type": "code",
   "execution_count": 66,
   "metadata": {},
   "outputs": [
    {
     "data": {
      "text/plain": [
       "161.65"
      ]
     },
     "execution_count": 66,
     "metadata": {},
     "output_type": "execute_result"
    }
   ],
   "source": [
    "df[\"LDCH [mg/dL]\"]"
   ]
  },
  {
   "cell_type": "code",
   "execution_count": 67,
   "metadata": {},
   "outputs": [
    {
     "data": {
      "image/png": "[encoded data removed]",
      "text/plain": [
       "<Figure size 640x480 with 1 Axes>"
      ]
     },
     "metadata": {},
     "output_type": "display_data"
    }
   ],
   "source": [
    "import matplotlib.pyplot as plt\n",
    "import numpy as np\n",
    "import pandas as pd\n",
    "\n",
    "# Sample data\n",
    "dates = pd.date_range('2023-01-01', periods=5)\n",
    "patient_results = [3, 5, 7, 4, 6]\n",
    "optimal_range = [4, 7]  # Example optimal range\n",
    "diseased_range = [1, 3]  # Example diseased range\n",
    "\n",
    "# Plot patient results\n",
    "plt.plot(dates, patient_results, marker='o', label='Patient Results')\n",
    "\n",
    "# Shade optimal range\n",
    "plt.axhspan(optimal_range[0], optimal_range[1], facecolor='green', alpha=0.3, label='Optimal Range')\n",
    "\n",
    "# Shade diseased range\n",
    "plt.axhspan(diseased_range[0], optimal_range[0], facecolor='red', alpha=0.3, label='Diseased Range')\n",
    "\n",
    "# Customize plot labels and appearance\n",
    "plt.title('Patient Test Results Over Time')\n",
    "plt.xlabel('Date')\n",
    "plt.ylabel('Test Result')\n",
    "plt.legend()\n",
    "plt.grid(True)\n",
    "plt.show()\n"
   ]
  },
  {
   "cell_type": "code",
   "execution_count": 74,
   "metadata": {},
   "outputs": [
    {
     "data": {
      "image/png": "[encoded data removed]",
      "text/plain": [
       "<Figure size 640x480 with 1 Axes>"
      ]
     },
     "metadata": {},
     "output_type": "display_data"
    }
   ],
   "source": [
    "import matplotlib.pyplot as plt\n",
    "import numpy as np\n",
    "import pandas as pd\n",
    "\n",
    "# Sample data\n",
    "dates = pd.date_range('2023-01-01', periods=5)\n",
    "patient_results = [3, 5, 7, 4, 6]\n",
    "optimal_range = [4, 7]  # Example optimal range\n",
    "diseased_range = [1, 3]  # Example diseased range\n",
    "\n",
    "# Plot patient results\n",
    "plt.plot(dates, patient_results, marker='o', label='Patient Results')\n",
    "\n",
    "# Shade optimal range\n",
    "plt.axhspan(optimal_range[0], optimal_range[1], facecolor='green', alpha=0.3, label='Optimal Range')\n",
    "\n",
    "# Shade diseased range\n",
    "plt.axhspan(diseased_range[0], optimal_range[0], facecolor='red', alpha=0.3, label='Diseased Range')\n",
    "\n",
    "# Annotate each data point\n",
    "for date, result in zip(dates, patient_results):\n",
    "    plt.annotate(f'{date.strftime(\"%Y-%m-%d\")}\\nResult: {result}',\n",
    "                 xy=(date, result),\n",
    "                 xytext=(5, -10),\n",
    "                 textcoords='offset points',\n",
    "                 ha='center',\n",
    "                 va='center',\n",
    "                 fontsize=8,\n",
    "                 bbox=dict(boxstyle='round,pad=0.3', edgecolor='black', facecolor='white'))\n",
    "\n",
    "# Customize plot labels and appearance\n",
    "plt.title('Patient Test Results Over Time')\n",
    "plt.xlabel('Date')\n",
    "plt.ylabel('Test Result')\n",
    "plt.legend()\n",
    "plt.grid(True)\n",
    "plt.gca().invert_yaxis()\n",
    "plt.show()\n"
   ]
  },
  {
   "cell_type": "code",
   "execution_count": 69,
   "metadata": {},
   "outputs": [
    {
     "data": {
      "image/png": "[encoded data removed]",
      "text/plain": [
       "<Figure size 600x50 with 1 Axes>"
      ]
     },
     "metadata": {},
     "output_type": "display_data"
    }
   ],
   "source": [
    "import matplotlib.pyplot as plt\n",
    "import numpy as np\n",
    "\n",
    "constant = 2 * (abs(27 - 20)) / 3\n",
    "\n",
    "x_min = 20 - constant\n",
    "x_max = 27 + constant\n",
    "\n",
    "x = np.linspace(x_min, x_max, 1000)\n",
    "y = np.ones(1000)\n",
    "\n",
    "range_values = np.where(x <= 20, 0, np.where(x > 27, 1, (x - 20) / (27 - 20)))\n",
    "range_values = range_values.reshape(1, -1)\n",
    "\n",
    "fig, ax = plt.subplots(figsize=(6, 0.5))\n",
    "\n",
    "ax.imshow(range_values, cmap='RdYlGn_r', aspect='auto', extent=[x_min, x_max, 0, 1], alpha=0.7)\n",
    "ax.plot(x, y, color='black')\n",
    "\n",
    "ax.get_yaxis().set_visible(False)\n",
    "ax.get_xaxis().set_visible(False)\n",
    "\n",
    "for limit, label in zip([20, 27], [\"<\", \">\"]):\n",
    "    ax.axvline(x=limit, color='black', linestyle='-', linewidth=1.5)\n",
    "    ax.annotate(str(label), xy=(limit, 0), xytext=(limit, -0.50), ha='center', va='center', fontsize=14,\n",
    "                arrowprops=dict(facecolor='black', headwidth=7, headlength=6))\n",
    "\n",
    "# Patient\n",
    "patient = 7\n",
    "custom_value = max(x_min, min(patient, x_max))\n",
    "linewidth = 2 if x_min < patient < x_max else 5\n",
    "ax.axvline(x=custom_value, color='red', linestyle='-', linewidth=linewidth)\n",
    "\n",
    "if patient < x_max and patient > x_min:\n",
    "    ax.annotate(str(patient), xy=(patient, 1), xytext=(patient, 1.45), ha='center', va='center', fontsize=14,\n",
    "                arrowprops=dict(facecolor='red', headwidth=7, headlength=6))\n",
    "elif patient <= x_min:\n",
    "    ax.annotate(str(patient), xy=(x_min + constant/25, 1), fontsize=14,\n",
    "                xytext=(x_min + constant/25, 1.45), ha='center', va='center',\n",
    "                arrowprops=dict(facecolor='red', headwidth=7, headlength=6))\n",
    "else:\n",
    "    ax.annotate(str(patient), xy=(x_max - constant/25, 1), fontsize=14,\n",
    "                xytext=(x_max - constant/25, 1.45), ha='center', va='center',\n",
    "                arrowprops=dict(facecolor='red', headwidth=7, headlength=6))\n",
    "\n",
    "plt.show()\n"
   ]
  },
  {
   "cell_type": "code",
   "execution_count": 125,
   "metadata": {},
   "outputs": [
    {
     "data": {
      "image/png": "[encoded data removed]",
      "text/plain": [
       "<Figure size 1000x50 with 1 Axes>"
      ]
     },
     "metadata": {},
     "output_type": "display_data"
    }
   ],
   "source": [
    "import matplotlib.pyplot as plt\n",
    "import numpy as np\n",
    "\n",
    "constant = 2 * (abs(27 - 20)) / 3\n",
    "\n",
    "x_min = 20 - constant\n",
    "x_max = 27 + constant\n",
    "\n",
    "x = np.linspace(x_min, x_max, 1000)\n",
    "y = np.ones(1000)\n",
    "\n",
    "range_values = np.where(x <= 20, 0, np.where(x > 27, 1, (x - 20) / (27 - 20)))\n",
    "range_values = range_values.reshape(1, -1)\n",
    "\n",
    "fig, ax = plt.subplots(figsize=(10, 0.5))\n",
    "\n",
    "ax.imshow(range_values, cmap='RdYlGn_r', aspect='auto', extent=[x_min, x_max, 0, 1], alpha=0.7)\n",
    "ax.plot(x, y, color='black')\n",
    "\n",
    "ax.get_yaxis().set_visible(False)\n",
    "ax.get_xaxis().set_visible(False)\n",
    "\n",
    "for limit in [20, 27]:\n",
    "    ax.axvline(x=limit, color='black', linestyle='-', linewidth=1.5)\n",
    "    ax.annotate(str(limit), xy=(limit, 0), xytext=(limit, -0.50), ha='center', va='center', fontsize=14,\n",
    "                arrowprops=dict(facecolor='black', headwidth=7, headlength=6))\n",
    "\n",
    "# Patient results at different dates\n",
    "dates = [\"22.10.2023\", \"24.7.2020\", \"09.07.2023\"]\n",
    "results = [7, 25, 26]\n",
    "\n",
    "count = 0\n",
    "for date, result in zip(dates, results):\n",
    "    custom_value = max(x_min, min(result, x_max))\n",
    "    linewidth = 2 if x_min < result < x_max else 5\n",
    "    ax.axvline(x=custom_value, color='red', linestyle='-', linewidth=linewidth)\n",
    "    \n",
    "    ax.annotate(str(result)+\"\\n\"+ date , xy=(custom_value, 1), xytext=(custom_value, 1.7+ count), \n",
    "                ha='center', va='center', fontsize=10,\n",
    "                arrowprops=dict(facecolor='red', arrowstyle = \"->\"))\n",
    "    count += 0.7\n",
    "\n",
    "plt.show()\n"
   ]
  }
 ],
 "metadata": {
  "kernelspec": {
   "display_name": "Python 3",
   "language": "python",
   "name": "python3"
  },
  "language_info": {
   "codemirror_mode": {
    "name": "ipython",
    "version": 3
   },
   "file_extension": ".py",
   "mimetype": "text/x-python",
   "name": "python",
   "nbconvert_exporter": "python",
   "pygments_lexer": "ipython3",
   "version": "3.10.12"
  }
 },
 "nbformat": 4,
 "nbformat_minor": 2
}
