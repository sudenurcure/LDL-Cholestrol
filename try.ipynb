{
 "cells": [
  {
   "cell_type": "code",
   "execution_count": null,
   "metadata": {},
   "outputs": [],
   "source": [
    "import pandas as pd\n",
    "import test_groups as TG\n",
    "\n",
    "Tests = []"
   ]
  },
  {
   "cell_type": "code",
   "execution_count": null,
   "metadata": {},
   "outputs": [],
   "source": [
    "class PrepTests:\n",
    "    \"\"\" Save testname and make a dataframe of test results.\n",
    "    \"\"\"\n",
    "    def __init__(self,name):\n",
    "        self.name = name\n",
    "        self.dataframe = self.make_df()\n",
    "\n",
    "    def make_df(self,add = False, dta =[]):\n",
    "        if add:\n",
    "            self.dataframe = pd.concat([self.dataframe, dta], axis= 1, ignore_index= True)\n",
    "            return\n",
    "        else:\n",
    "            df = pd.DataFrame()\n",
    "            return df"
   ]
  },
  {
   "cell_type": "code",
   "execution_count": null,
   "metadata": {},
   "outputs": [],
   "source": [
    "def DataPrep(data):\n",
    "    for index, element in data.iterrows():\n",
    "        strings = 0\n",
    "        if isinstance(element[\"Sonuç\"], str) and element[\"Sonuç\"] != \"None\":\n",
    "            strings += 1\n",
    "            tn = f\"Test {element['Test Adı']}\"\n",
    "            tablename = element['Test Adı']\n",
    "            #tablename= data.iloc[index,0]\n",
    "            tn =  PrepTests(tablename)\n",
    "            Tests.append(tn)\n",
    "        else:\n",
    "            Tests[-1].make_df(add = True, dta = data.iloc[index])\n",
    "\n",
    "    for test in Tests:\n",
    "        test.dataframe = test.dataframe.transpose()"
   ]
  },
  {
   "cell_type": "code",
   "execution_count": null,
   "metadata": {},
   "outputs": [],
   "source": [
    "data = pd.read_excel(\"Sample.xlsx\", header=0)\n",
    "#data = data.drop(columns= \"Referans Değer\")\n",
    "DataPrep(data)"
   ]
  },
  {
   "cell_type": "code",
   "execution_count": null,
   "metadata": {},
   "outputs": [],
   "source": [
    "data.head()"
   ]
  },
  {
   "cell_type": "code",
   "execution_count": null,
   "metadata": {},
   "outputs": [],
   "source": [
    "data.loc[data[\"Test Adı\"] == \"Trigliserid\", \"Referans Değer\"]"
   ]
  },
  {
   "cell_type": "code",
   "execution_count": 7,
   "metadata": {},
   "outputs": [
    {
     "data": {
      "text/plain": [
       "{'optimal düzey <': 230, 'artmış kardiovasküler hastalık riski >': 330}"
      ]
     },
     "execution_count": 7,
     "metadata": {},
     "output_type": "execute_result"
    }
   ],
   "source": [
    "import re\n",
    "   \n",
    "references = \"<230 Optimal Düzey >330 Artmış Kardiovasküler Hastalık Riski\"\n",
    "\n",
    "references= references.lower()\n",
    "\n",
    "string_parts = re.split(r'([<>]=?)', references)\n",
    "string_parts = [s.strip() for s in string_parts if s.strip()]\n",
    "givenref = {}\n",
    "r = re.compile(\"([0-9]+)([a-zA-Z]+)\")\n",
    "\n",
    "for x in range(0, len(string_parts)):\n",
    "    if x%2 == 0:\n",
    "        numeric_pattern = r'[-+]?\\d*\\.\\d+|\\d+'\n",
    "        main = string_parts[x+1]\n",
    "        numerical_values = re.findall(numeric_pattern, string_parts[x+1])\n",
    "        numerical_values = [int(num) if num.isnumeric() else float(num) for num in numerical_values]\n",
    "        main = re.sub(numeric_pattern, '', main).strip() + \" \" +string_parts[x]\n",
    "        givenref[main] = numerical_values[0]\n",
    "\n",
    "\n",
    "givenref\n",
    "#string_parts"
   ]
  },
  {
   "cell_type": "code",
   "execution_count": 7,
   "metadata": {},
   "outputs": [
    {
     "name": "stdout",
     "output_type": "stream",
     "text": [
      "This is refexists:  {'optimal düzey <': 140, 'artmış kardiovasküler hastalık riski >': 190}\n",
      "This is givenref:  {'optimal düzey <': 140, 'artmış kardiovasküler hastalık riski >': 190}\n"
     ]
    }
   ],
   "source": [
    "import re\n",
    "import test_groups as TG\n",
    "\n",
    "Group = \"ldl_alt_fraksi̇yonları\"\n",
    "test = \"ldl1-partikül sayısı\"\n",
    "\n",
    "references = \"<140 Optimal Düzey >190 Artmış Kardiovasküler Hastalık Riski\"\n",
    "\n",
    "givenref = {}\n",
    "#r = re.compile(\"([0-9]+)([a-zA-Z]+)\")\n",
    "\n",
    "references= references.lower()\n",
    "string_parts = re.split(r'([<>]=?)', references)\n",
    "string_parts = [s.strip() for s in string_parts if s.strip()]\n",
    "\n",
    "for x in range(0, len(string_parts)):\n",
    "    if x%2 == 0:\n",
    "        numeric_pattern = r'[-+]?\\d*\\.\\d+|\\d+'\n",
    "        mainstr = string_parts[x+1]\n",
    "        numerical_values = re.findall(numeric_pattern, mainstr)\n",
    "        numerical_values = [int(num) if num.isnumeric() else float(num) for num in numerical_values]\n",
    "        mainstr = re.sub(numeric_pattern, '', mainstr).strip() + \" \" +string_parts[x]\n",
    "        givenref[mainstr] = numerical_values[0]\n",
    "\n",
    "#compare givenref  with the test_group now\n",
    "refexists = TG.Lead(Group).get(test, None)\n",
    "if refexists is not None:\n",
    "    print(\"This is refexists: \", refexists)\n",
    "    print(\"This is givenref: \", givenref)\n",
    "    try:\n",
    "        refexists == givenref\n",
    "    except:\n",
    "        print(f\"Reference of {test} is different than known reference for this test.\")\n",
    "else:\n",
    "    print(f\"No reference found for test: {test}\")"
   ]
  }
 ],
 "metadata": {
  "kernelspec": {
   "display_name": "Python 3",
   "language": "python",
   "name": "python3"
  },
  "language_info": {
   "codemirror_mode": {
    "name": "ipython",
    "version": 3
   },
   "file_extension": ".py",
   "mimetype": "text/x-python",
   "name": "python",
   "nbconvert_exporter": "python",
   "pygments_lexer": "ipython3",
   "version": "3.10.12"
  }
 },
 "nbformat": 4,
 "nbformat_minor": 2
}
